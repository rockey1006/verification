{
  "nbformat": 4,
  "nbformat_minor": 0,
  "metadata": {
    "colab": {
      "name": "11_20.ipynb",
      "provenance": [],
      "machine_shape": "hm",
      "authorship_tag": "ABX9TyMfh6LHJKPYGyGVeBcHv1Jm",
      "include_colab_link": true
    },
    "kernelspec": {
      "name": "python3",
      "display_name": "Python 3"
    },
    "accelerator": "GPU"
  },
  "cells": [
    {
      "cell_type": "markdown",
      "metadata": {
        "id": "view-in-github",
        "colab_type": "text"
      },
      "source": [
        "<a href=\"https://colab.research.google.com/github/rockey1006/verification/blob/main/11_20.ipynb\" target=\"_parent\"><img src=\"https://colab.research.google.com/assets/colab-badge.svg\" alt=\"Open In Colab\"/></a>"
      ]
    },
    {
      "cell_type": "code",
      "metadata": {
        "colab": {
          "base_uri": "https://localhost:8080/"
        },
        "id": "cyIiMWdECn7c",
        "outputId": "bede280c-d457-4e6b-a230-af4b46aad965"
      },
      "source": [
        "from psutil import virtual_memory\n",
        "ram_gb = virtual_memory().total / 1e9\n",
        "print('Your runtime has {:.1f} gigabytes of available RAM\\n'.format(ram_gb))\n",
        "\n",
        "if ram_gb < 20:\n",
        "  print('To enable a high-RAM runtime, select the Runtime > \"Change runtime type\"')\n",
        "  print('menu, and then select High-RAM in the Runtime shape dropdown. Then, ')\n",
        "  print('re-execute this cell.')\n",
        "else:\n",
        "  print('You are using a high-RAM runtime!')"
      ],
      "execution_count": 20,
      "outputs": [
        {
          "output_type": "stream",
          "text": [
            "Your runtime has 27.4 gigabytes of available RAM\n",
            "\n",
            "You are using a high-RAM runtime!\n"
          ],
          "name": "stdout"
        }
      ]
    },
    {
      "cell_type": "code",
      "metadata": {
        "id": "YuLLoNGBDGWO"
      },
      "source": [
        "!pip install deepface\n"
      ],
      "execution_count": null,
      "outputs": []
    },
    {
      "cell_type": "code",
      "metadata": {
        "id": "ZnUHgTsjDMYw"
      },
      "source": [
        "from deepface import DeepFace\n"
      ],
      "execution_count": 2,
      "outputs": []
    },
    {
      "cell_type": "code",
      "metadata": {
        "colab": {
          "base_uri": "https://localhost:8080/"
        },
        "id": "MmW9GfQeDPou",
        "outputId": "9a3f5d89-6005-4083-8625-200abcf750fc"
      },
      "source": [
        "\n",
        "from google.colab import drive\n",
        "drive.mount('/content/drive')"
      ],
      "execution_count": 23,
      "outputs": [
        {
          "output_type": "stream",
          "text": [
            "Drive already mounted at /content/drive; to attempt to forcibly remount, call drive.mount(\"/content/drive\", force_remount=True).\n"
          ],
          "name": "stdout"
        }
      ]
    },
    {
      "cell_type": "code",
      "metadata": {
        "id": "r8Aw0LxjDX33"
      },
      "source": [
        "from zipfile import ZipFile\n",
        "with ZipFile('/content/drive/My Drive/facenet_weights.zip', 'r') as zipObj:\n",
        "   # Extract all the contents of zip file in different directory\n",
        "   zipObj.extractall('/root/.deepface/weights/')"
      ],
      "execution_count": 5,
      "outputs": []
    },
    {
      "cell_type": "code",
      "metadata": {
        "id": "cUvOq1Y7DYCd"
      },
      "source": [
        "from zipfile import ZipFile\n",
        "with ZipFile('/content/drive/MyDrive/person01.zip', 'r') as zipObj:\n",
        "   # Extract all the contents of zip file in different directory\n",
        "   zipObj.extractall('person01(2)/')"
      ],
      "execution_count": 24,
      "outputs": []
    },
    {
      "cell_type": "code",
      "metadata": {
        "id": "5dYhXuXFOwSr"
      },
      "source": [
        "import os\n",
        "from PIL import Image\n",
        "\n",
        "fileName = os.listdir('/content/person01(2)/person01/batch8/')\n",
        "width = 160\n",
        "height = 160\n",
        "\n",
        "for img in fileName:\n",
        "  pic = Image.open('/content/person01(2)/person01/batch8/'+img)\n",
        "  newpic = pic.resize((width,height),Image.ANTIALIAS)\n",
        "  print(newpic)\n",
        "  newpic.save('/content/person04/'+img)"
      ],
      "execution_count": null,
      "outputs": []
    },
    {
      "cell_type": "code",
      "metadata": {
        "id": "Ie7GbT-GDfpa"
      },
      "source": [
        "import imageio\n",
        "import imageio.core.util\n",
        "def silence_imageio_warning(*args, **kwargs):\n",
        "    pass\n",
        "imageio.core.util._precision_warn = silence_imageio_warning\n",
        "import warnings\n",
        "\n",
        "def fxn():\n",
        "    warnings.warn(\"deprecated\", DeprecationWarning)\n",
        "\n",
        "with warnings.catch_warnings():\n",
        "    warnings.simplefilter(\"ignore\")\n",
        "    fxn()\n",
        "import warnings\n",
        "warnings.filterwarnings(\"ignore\")\n",
        "import os\n",
        "os.environ['TF_CPP_MIN_LOG_LEVEL'] = '3' \n",
        "import tensorflow as tf\n",
        "import logging\n",
        "tf.get_logger().setLevel(logging.ERROR)"
      ],
      "execution_count": 3,
      "outputs": []
    },
    {
      "cell_type": "code",
      "metadata": {
        "colab": {
          "base_uri": "https://localhost:8080/"
        },
        "id": "MB45AX3SD1MB",
        "outputId": "b84b5b77-ec25-421a-9965-410d51dfff5a"
      },
      "source": [
        "import os \n",
        "\n",
        "g = os.walk(r\"/content/person04/\")  \n",
        "srcPath='/content/verified/'\n",
        "\n",
        "for path,dir_list,file_list in g:  \n",
        "    for file_name in file_list:  \n",
        "      try:\n",
        "          result  = DeepFace.verify('/content/person02/000031.png', os.path.join(path, file_name),model_name=\"Facenet\",distance_metric='euclidean_l2')\n",
        "      except:\n",
        "        continue\n",
        "      result  = DeepFace.verify('/content/person02/000031.png', os.path.join(path, file_name),model_name=\"Facenet\",distance_metric='euclidean_l2')\n",
        "       \n",
        "      print(\"euclidean_l2 distance: \",result[\"distance\"])\n",
        "      print(os.path.join(path, file_name))\n",
        "  \n",
        "      if result[\"distance\"]<1.1:\n",
        "         print('verified:',os.path.join(path, file_name))"
      ],
      "execution_count": 7,
      "outputs": [
        {
          "output_type": "stream",
          "text": [
            "Using Facenet model backend euclidean_l2 distance.\n",
            "Using Facenet model backend euclidean_l2 distance.\n",
            "euclidean_l2 distance:  1.4042655\n",
            "/content/person04/a.pngb'Wearing_Earrings'.png6.png\n",
            "Using Facenet model backend euclidean_l2 distance.\n",
            "Using Facenet model backend euclidean_l2 distance.\n",
            "euclidean_l2 distance:  1.3287886\n",
            "/content/person04/a.pngb'Wearing_Earrings'.png3.png\n",
            "Using Facenet model backend euclidean_l2 distance.\n",
            "Using Facenet model backend euclidean_l2 distance.\n",
            "Using Facenet model backend euclidean_l2 distance.\n",
            "euclidean_l2 distance:  1.350466\n",
            "/content/person04/a.pngb'Straight_Hair'.png9.png\n",
            "Using Facenet model backend euclidean_l2 distance.\n",
            "Using Facenet model backend euclidean_l2 distance.\n",
            "Using Facenet model backend euclidean_l2 distance.\n",
            "euclidean_l2 distance:  1.3803133\n",
            "/content/person04/a.pngb'Wavy_Hair'.png8.png\n",
            "Using Facenet model backend euclidean_l2 distance.\n",
            "Using Facenet model backend euclidean_l2 distance.\n",
            "euclidean_l2 distance:  1.2823228\n",
            "/content/person04/a.pngb'Sideburns'.png2.png\n",
            "Using Facenet model backend euclidean_l2 distance.\n",
            "Using Facenet model backend euclidean_l2 distance.\n",
            "euclidean_l2 distance:  1.2781128\n",
            "/content/person04/a.pngb'Smiling'.png2.png\n",
            "Using Facenet model backend euclidean_l2 distance.\n",
            "Using Facenet model backend euclidean_l2 distance.\n",
            "euclidean_l2 distance:  1.3924967\n",
            "/content/person04/a.pngb'Wavy_Hair'.png3.png\n",
            "Using Facenet model backend euclidean_l2 distance.\n",
            "Using Facenet model backend euclidean_l2 distance.\n",
            "euclidean_l2 distance:  1.3717817\n",
            "/content/person04/a.pngb'Wearing_Earrings'.png8.png\n",
            "Using Facenet model backend euclidean_l2 distance.\n",
            "Using Facenet model backend euclidean_l2 distance.\n",
            "euclidean_l2 distance:  1.2884995\n",
            "/content/person04/a.pngb'Wavy_Hair'.png1.png\n",
            "Using Facenet model backend euclidean_l2 distance.\n",
            "Using Facenet model backend euclidean_l2 distance.\n",
            "Using Facenet model backend euclidean_l2 distance.\n",
            "euclidean_l2 distance:  1.2884995\n",
            "/content/person04/a.pngb'Smiling'.png1.png\n",
            "Using Facenet model backend euclidean_l2 distance.\n",
            "Using Facenet model backend euclidean_l2 distance.\n",
            "Using Facenet model backend euclidean_l2 distance.\n",
            "Using Facenet model backend euclidean_l2 distance.\n",
            "Using Facenet model backend euclidean_l2 distance.\n",
            "euclidean_l2 distance:  1.3035214\n",
            "/content/person04/a.pngb'Wearing_Earrings'.png2.png\n",
            "Using Facenet model backend euclidean_l2 distance.\n",
            "Using Facenet model backend euclidean_l2 distance.\n",
            "euclidean_l2 distance:  1.4087937\n",
            "/content/person04/a.pngb'Wavy_Hair'.png5.png\n",
            "Using Facenet model backend euclidean_l2 distance.\n",
            "Using Facenet model backend euclidean_l2 distance.\n",
            "euclidean_l2 distance:  1.301764\n",
            "/content/person04/a.pngb'Straight_Hair'.png5.png\n",
            "Using Facenet model backend euclidean_l2 distance.\n",
            "Using Facenet model backend euclidean_l2 distance.\n",
            "euclidean_l2 distance:  1.2884995\n",
            "/content/person04/a.pngb'Straight_Hair'.png1.png\n",
            "Using Facenet model backend euclidean_l2 distance.\n",
            "Using Facenet model backend euclidean_l2 distance.\n",
            "euclidean_l2 distance:  1.3337479\n",
            "/content/person04/a.pngb'Straight_Hair'.png8.png\n",
            "Using Facenet model backend euclidean_l2 distance.\n",
            "Using Facenet model backend euclidean_l2 distance.\n",
            "euclidean_l2 distance:  1.4083577\n",
            "/content/person04/a.pngb'Wearing_Earrings'.png9.png\n",
            "Using Facenet model backend euclidean_l2 distance.\n",
            "Using Facenet model backend euclidean_l2 distance.\n",
            "euclidean_l2 distance:  1.2884995\n",
            "/content/person04/a.pngb'Sideburns'.png1.png\n",
            "Using Facenet model backend euclidean_l2 distance.\n",
            "Using Facenet model backend euclidean_l2 distance.\n",
            "euclidean_l2 distance:  1.2357782\n",
            "/content/person04/a.pngb'Sideburns'.png3.png\n",
            "Using Facenet model backend euclidean_l2 distance.\n",
            "Using Facenet model backend euclidean_l2 distance.\n",
            "Using Facenet model backend euclidean_l2 distance.\n",
            "Using Facenet model backend euclidean_l2 distance.\n",
            "euclidean_l2 distance:  1.3526968\n",
            "/content/person04/a.pngb'Wavy_Hair'.png7.png\n",
            "Using Facenet model backend euclidean_l2 distance.\n",
            "Using Facenet model backend euclidean_l2 distance.\n",
            "euclidean_l2 distance:  1.3338066\n",
            "/content/person04/a.pngb'Smiling'.png3.png\n",
            "Using Facenet model backend euclidean_l2 distance.\n",
            "Using Facenet model backend euclidean_l2 distance.\n",
            "euclidean_l2 distance:  1.2884995\n",
            "/content/person04/a.pngb'Wearing_Earrings'.png1.png\n",
            "Using Facenet model backend euclidean_l2 distance.\n",
            "Using Facenet model backend euclidean_l2 distance.\n",
            "euclidean_l2 distance:  1.3561606\n",
            "/content/person04/a.pngb'Smiling'.png4.png\n",
            "Using Facenet model backend euclidean_l2 distance.\n",
            "Using Facenet model backend euclidean_l2 distance.\n",
            "euclidean_l2 distance:  1.2957166\n",
            "/content/person04/a.pngb'Straight_Hair'.png6.png\n",
            "Using Facenet model backend euclidean_l2 distance.\n",
            "Using Facenet model backend euclidean_l2 distance.\n",
            "euclidean_l2 distance:  1.2892005\n",
            "/content/person04/a.pngb'Straight_Hair'.png4.png\n",
            "Using Facenet model backend euclidean_l2 distance.\n",
            "Using Facenet model backend euclidean_l2 distance.\n",
            "euclidean_l2 distance:  1.3935515\n",
            "/content/person04/a.pngb'Wearing_Earrings'.png5.png\n",
            "Using Facenet model backend euclidean_l2 distance.\n",
            "Using Facenet model backend euclidean_l2 distance.\n",
            "euclidean_l2 distance:  1.4036013\n",
            "/content/person04/a.pngb'Wavy_Hair'.png4.png\n",
            "Using Facenet model backend euclidean_l2 distance.\n",
            "Using Facenet model backend euclidean_l2 distance.\n",
            "Using Facenet model backend euclidean_l2 distance.\n",
            "euclidean_l2 distance:  1.3221523\n",
            "/content/person04/a.pngb'Straight_Hair'.png7.png\n",
            "Using Facenet model backend euclidean_l2 distance.\n",
            "Using Facenet model backend euclidean_l2 distance.\n",
            "euclidean_l2 distance:  1.2877986\n",
            "/content/person04/a.pngb'Straight_Hair'.png2.png\n",
            "Using Facenet model backend euclidean_l2 distance.\n",
            "Using Facenet model backend euclidean_l2 distance.\n",
            "Using Facenet model backend euclidean_l2 distance.\n",
            "Using Facenet model backend euclidean_l2 distance.\n",
            "euclidean_l2 distance:  1.3664991\n",
            "/content/person04/a.pngb'Smiling'.png6.png\n",
            "Using Facenet model backend euclidean_l2 distance.\n",
            "Using Facenet model backend euclidean_l2 distance.\n",
            "euclidean_l2 distance:  1.4011085\n",
            "/content/person04/a.pngb'Wavy_Hair'.png9.png\n",
            "Using Facenet model backend euclidean_l2 distance.\n",
            "Using Facenet model backend euclidean_l2 distance.\n",
            "euclidean_l2 distance:  1.3569337\n",
            "/content/person04/a.pngb'Wearing_Earrings'.png4.png\n",
            "Using Facenet model backend euclidean_l2 distance.\n",
            "Using Facenet model backend euclidean_l2 distance.\n",
            "Using Facenet model backend euclidean_l2 distance.\n",
            "Using Facenet model backend euclidean_l2 distance.\n",
            "euclidean_l2 distance:  1.3659378\n",
            "/content/person04/a.pngb'Wavy_Hair'.png2.png\n",
            "Using Facenet model backend euclidean_l2 distance.\n",
            "Using Facenet model backend euclidean_l2 distance.\n",
            "euclidean_l2 distance:  1.390792\n",
            "/content/person04/a.pngb'Wavy_Hair'.png6.png\n",
            "Using Facenet model backend euclidean_l2 distance.\n",
            "Using Facenet model backend euclidean_l2 distance.\n",
            "Using Facenet model backend euclidean_l2 distance.\n",
            "Using Facenet model backend euclidean_l2 distance.\n",
            "euclidean_l2 distance:  1.3089075\n",
            "/content/person04/a.pngb'Straight_Hair'.png3.png\n",
            "Using Facenet model backend euclidean_l2 distance.\n",
            "Using Facenet model backend euclidean_l2 distance.\n",
            "euclidean_l2 distance:  1.4142823\n",
            "/content/person04/a.pngb'Wearing_Earrings'.png7.png\n"
          ],
          "name": "stdout"
        }
      ]
    }
  ]
}