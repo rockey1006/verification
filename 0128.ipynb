{
  "nbformat": 4,
  "nbformat_minor": 0,
  "metadata": {
    "colab": {
      "name": "0128.ipynb",
      "provenance": [],
      "machine_shape": "hm",
      "authorship_tag": "ABX9TyMDFi70/wCMoEsjB07dJIPH",
      "include_colab_link": true
    },
    "kernelspec": {
      "name": "python3",
      "display_name": "Python 3"
    },
    "accelerator": "GPU"
  },
  "cells": [
    {
      "cell_type": "markdown",
      "metadata": {
        "id": "view-in-github",
        "colab_type": "text"
      },
      "source": [
        "<a href=\"https://colab.research.google.com/github/rockey1006/verification/blob/main/0128.ipynb\" target=\"_parent\"><img src=\"https://colab.research.google.com/assets/colab-badge.svg\" alt=\"Open In Colab\"/></a>"
      ]
    },
    {
      "cell_type": "code",
      "metadata": {
        "id": "sp3fkEruJ1Ge"
      },
      "source": [
        "!pip install deepface\r\n"
      ],
      "execution_count": null,
      "outputs": []
    },
    {
      "cell_type": "code",
      "metadata": {
        "colab": {
          "base_uri": "https://localhost:8080/"
        },
        "id": "vhxQHOPJK1-i",
        "outputId": "a44426a1-2060-4428-da48-1ef772c2b66c"
      },
      "source": [
        "from google.colab import drive\r\n",
        "drive.mount('/content/drive')"
      ],
      "execution_count": 2,
      "outputs": [
        {
          "output_type": "stream",
          "text": [
            "Mounted at /content/drive\n"
          ],
          "name": "stdout"
        }
      ]
    },
    {
      "cell_type": "code",
      "metadata": {
        "id": "UcK8pneNK7do"
      },
      "source": [
        "\r\n",
        "from zipfile import ZipFile\r\n",
        "with ZipFile('/content/drive/MyDrive/LFW0118/batch005.zip', 'r') as zipObj:\r\n",
        "   # Extract all the contents of zip file in different directory\r\n",
        "   zipObj.extractall('/content/')"
      ],
      "execution_count": 116,
      "outputs": []
    },
    {
      "cell_type": "code",
      "metadata": {
        "id": "BBiIT1CGLaO5"
      },
      "source": [
        "\r\n",
        "from zipfile import ZipFile\r\n",
        "with ZipFile('/content/drive/MyDrive/batchwrong.zip', 'r') as zipObj:\r\n",
        "   # Extract all the contents of zip file in different directory\r\n",
        "   zipObj.extractall('wrong/')"
      ],
      "execution_count": 5,
      "outputs": []
    },
    {
      "cell_type": "code",
      "metadata": {
        "id": "fqs5haWNNSEY"
      },
      "source": [
        "from zipfile import ZipFile\r\n",
        "with ZipFile('/content/drive/My Drive/facenet_weights.zip', 'r') as zipObj:\r\n",
        "   # Extract all the contents of zip file in different directory\r\n",
        "   zipObj.extractall('/root/.deepface/weights/')"
      ],
      "execution_count": 8,
      "outputs": []
    },
    {
      "cell_type": "code",
      "metadata": {
        "colab": {
          "base_uri": "https://localhost:8080/"
        },
        "id": "yXsWnKLnNAEr",
        "outputId": "246a6f75-3012-43b8-e38a-398e9a65a05c"
      },
      "source": [
        "import sys\r\n",
        "import base64\r\n",
        "import cv2\r\n",
        "import time\r\n",
        "from deepface import DeepFace\r\n",
        "from deepface.commons import functions, realtime, distance as dst\r\n",
        "from deepface.basemodels import VGGFace, OpenFace, Facenet, FbDeepFace, DeepID\r\n",
        "import numpy as np\r\n",
        "import imageio"
      ],
      "execution_count": 6,
      "outputs": [
        {
          "output_type": "stream",
          "text": [
            "Directory  /root /.deepface created\n",
            "Directory  /root /.deepface/weights created\n"
          ],
          "name": "stdout"
        }
      ]
    },
    {
      "cell_type": "code",
      "metadata": {
        "id": "xeK4PwXaNJGD"
      },
      "source": [
        "faceCascade = cv2.CascadeClassifier(cv2.data.haarcascades + \"haarcascade_frontalface_default.xml\")\r\n",
        "facenet_model = Facenet.loadModel()\r\n",
        "\r\n",
        "def load_img2(img, do_random_crop, do_random_flip, image_size, do_prewhiten=True):\r\n",
        "\timages = np.zeros((1, image_size, image_size, 3))\r\n",
        "\t# scale pixel values\r\n",
        "\tface_pixels = img.astype('float32')\r\n",
        "\t# standardize pixel values across channels (global)\r\n",
        "\tmean, std = face_pixels.mean(), face_pixels.std()\r\n",
        "\tface_pixels = (face_pixels - mean) / std\r\n",
        "\t# transform face into one sample\r\n",
        "\timages[:,:,:,:] = face_pixels\r\n",
        "\treturn images"
      ],
      "execution_count": 9,
      "outputs": []
    },
    {
      "cell_type": "code",
      "metadata": {
        "id": "zxdVLS6vNMSV"
      },
      "source": [
        "def verify_distance(img1, img2):   # assumes image is in 160x160 format\r\n",
        "\timg1 = load_img2(img1, False, False, 160)\r\n",
        "\timg2 = load_img2(img2, False, False, 160)\r\n",
        "\timg1_representation = facenet_model.predict(img1)[0,:]\r\n",
        "\timg2_representation = facenet_model.predict(img2)[0,:]\r\n",
        "\t#distance1 = dst.findCosineDistance(img1_representation, img2_representation)\r\n",
        "\t#distance2 = dst.findEuclideanDistance(img1_representation, img2_representation)\r\n",
        "\tdistance3 = dst.findEuclideanDistance(dst.l2_normalize(img1_representation), dst.l2_normalize(img2_representation))\r\n",
        "\t#result = str(distance1) + ' ' + str(distance2) + ' ' + str(distance3)\r\n",
        "\treturn distance3\r\n",
        "from skimage import io"
      ],
      "execution_count": 10,
      "outputs": []
    },
    {
      "cell_type": "code",
      "metadata": {
        "id": "mz8XvQMGNeN4"
      },
      "source": [
        "def facedetect_image(img_file):  # detects face and returns 160x160 image around face\r\n",
        "  imagePath = img_file\r\n",
        "  image = io.imread(imagePath)\r\n",
        "  margin = 3  # 3 pixel extra around detected face\r\n",
        "  gray = cv2.cvtColor(image, cv2.COLOR_BGR2GRAY)\r\n",
        "  faces = faceCascade.detectMultiScale(\r\n",
        "\t\tgray,\r\n",
        "\t\tscaleFactor=1.3,\r\n",
        "\t\tminNeighbors=3,\r\n",
        "\t\tminSize=(30, 30)\r\n",
        "\t)\r\n",
        " \r\n",
        "  for (x, y, w, h) in faces:\r\n",
        "\t\t#cv2.rectangle(image, (x, y), (x + w, y + h), (0, 255, 0), 2)\r\n",
        "    roi_color = image[y-margin:y + h+margin, x-margin:x + w+margin]\r\n",
        "    dsize=(160,160)\r\n",
        "    global imface\r\n",
        "    try:\r\n",
        "      imface = cv2.resize(roi_color, dsize, interpolation = cv2.INTER_AREA)\r\n",
        "    except:\r\n",
        "      continue\r\n",
        "    imface = cv2.resize(roi_color, dsize, interpolation = cv2.INTER_AREA)\r\n",
        "    \r\n",
        "\t\t#print(\"[INFO] Object found. Saving locally.\")\r\n",
        "\t\t#cv2.imwrite(str(w) + str(h) + '_faces.jpg', imface1)\r\n",
        "    encoded_string = imface \r\n",
        "    break\r\n",
        "  return imface"
      ],
      "execution_count": 31,
      "outputs": []
    },
    {
      "cell_type": "code",
      "metadata": {
        "colab": {
          "base_uri": "https://localhost:8080/",
          "height": 1000
        },
        "id": "h336cjwrNhjl",
        "outputId": "993f9ae6-4d56-4643-988a-9203c9476bb8"
      },
      "source": [
        "def main():\r\n",
        "  import os \r\n",
        "\r\n",
        "  g = os.walk(r\"/content/content/batch005/batch29/\") \r\n",
        "  srcPath='/content/batch005_verified/Muhammad_Ali_0002_0'\r\n",
        "  if not os.path.exists(srcPath):\r\n",
        "        os.makedirs(srcPath)\r\n",
        "  img1 = facedetect_image('/content/wrong/content/batchwrong/batch005/Muhammad_Ali_0002_0.png/')\r\n",
        "\r\n",
        "\r\n",
        "  for path,dir_list,file_list in g:  \r\n",
        "    for file_name in file_list:  \r\n",
        "      try:\r\n",
        "        img2 = facedetect_image(os.path.join(path, file_name))\r\n",
        "      except:\r\n",
        "        continue\r\n",
        "      img2 = facedetect_image(os.path.join(path, file_name))\r\n",
        "     \r\n",
        "      \r\n",
        "      res = verify_distance(img1,img2)\r\n",
        "      #print(\"euclidean_l2 distance: \",res)\r\n",
        "      if res<1.2:\r\n",
        "        print(\"euclidean_l2 distance: \",res)\r\n",
        "        path1 = os.path.join(path,file_name)\r\n",
        "\r\n",
        "\r\n",
        "        path2 = os.path.join(srcPath+'/'+str(res))\r\n",
        "     \r\n",
        "        with open(path1, 'rb') as rstream:\r\n",
        "          container = rstream.read()\r\n",
        "          with open(path2, 'wb') as wstream:\r\n",
        "            wstream.write(container)\r\n",
        "\r\n",
        "if __name__ == \"__main__\":\r\n",
        "    sys.exit(int(main() or 0))"
      ],
      "execution_count": 145,
      "outputs": [
        {
          "output_type": "stream",
          "text": [
            "euclidean_l2 distance:  1.15894\n",
            "euclidean_l2 distance:  1.15894\n",
            "euclidean_l2 distance:  1.15894\n",
            "euclidean_l2 distance:  1.15894\n",
            "euclidean_l2 distance:  1.15894\n",
            "euclidean_l2 distance:  1.15894\n",
            "euclidean_l2 distance:  1.15894\n",
            "euclidean_l2 distance:  1.15894\n",
            "euclidean_l2 distance:  1.15894\n",
            "euclidean_l2 distance:  1.15894\n",
            "euclidean_l2 distance:  1.15894\n",
            "euclidean_l2 distance:  1.15894\n",
            "euclidean_l2 distance:  1.15894\n",
            "euclidean_l2 distance:  1.15894\n",
            "euclidean_l2 distance:  1.15894\n",
            "euclidean_l2 distance:  1.15894\n",
            "euclidean_l2 distance:  1.15894\n",
            "euclidean_l2 distance:  1.15894\n",
            "euclidean_l2 distance:  1.15894\n",
            "euclidean_l2 distance:  1.15894\n",
            "euclidean_l2 distance:  1.15894\n",
            "euclidean_l2 distance:  1.15894\n",
            "euclidean_l2 distance:  1.15894\n",
            "euclidean_l2 distance:  1.15894\n",
            "euclidean_l2 distance:  1.15894\n",
            "euclidean_l2 distance:  1.15894\n",
            "euclidean_l2 distance:  1.15894\n",
            "euclidean_l2 distance:  1.15894\n",
            "euclidean_l2 distance:  1.15894\n",
            "euclidean_l2 distance:  1.15894\n",
            "euclidean_l2 distance:  1.15894\n",
            "euclidean_l2 distance:  1.15894\n",
            "euclidean_l2 distance:  1.15894\n",
            "euclidean_l2 distance:  1.15894\n",
            "euclidean_l2 distance:  1.15894\n",
            "euclidean_l2 distance:  1.15894\n",
            "euclidean_l2 distance:  1.15894\n",
            "euclidean_l2 distance:  1.15894\n",
            "euclidean_l2 distance:  1.15894\n",
            "euclidean_l2 distance:  1.15894\n",
            "euclidean_l2 distance:  1.15894\n",
            "euclidean_l2 distance:  1.15894\n",
            "euclidean_l2 distance:  1.15894\n",
            "euclidean_l2 distance:  1.15894\n",
            "euclidean_l2 distance:  1.15894\n",
            "euclidean_l2 distance:  1.15894\n",
            "euclidean_l2 distance:  1.15894\n",
            "euclidean_l2 distance:  1.15894\n",
            "euclidean_l2 distance:  1.15894\n",
            "euclidean_l2 distance:  1.15894\n",
            "euclidean_l2 distance:  1.15894\n",
            "euclidean_l2 distance:  1.15894\n",
            "euclidean_l2 distance:  1.15894\n",
            "euclidean_l2 distance:  1.15894\n",
            "euclidean_l2 distance:  1.15894\n",
            "euclidean_l2 distance:  1.15894\n",
            "euclidean_l2 distance:  1.15894\n",
            "euclidean_l2 distance:  1.15894\n",
            "euclidean_l2 distance:  1.15894\n",
            "euclidean_l2 distance:  1.15894\n",
            "euclidean_l2 distance:  1.15894\n",
            "euclidean_l2 distance:  1.15894\n",
            "euclidean_l2 distance:  1.15894\n",
            "euclidean_l2 distance:  1.15894\n",
            "euclidean_l2 distance:  1.15894\n",
            "euclidean_l2 distance:  1.15894\n",
            "euclidean_l2 distance:  1.15894\n",
            "euclidean_l2 distance:  1.15894\n",
            "euclidean_l2 distance:  1.15894\n",
            "euclidean_l2 distance:  1.15894\n",
            "euclidean_l2 distance:  1.15894\n",
            "euclidean_l2 distance:  1.15894\n",
            "euclidean_l2 distance:  1.15894\n",
            "euclidean_l2 distance:  1.15894\n",
            "euclidean_l2 distance:  1.15894\n",
            "euclidean_l2 distance:  1.15894\n",
            "euclidean_l2 distance:  1.15894\n"
          ],
          "name": "stdout"
        },
        {
          "output_type": "error",
          "ename": "SystemExit",
          "evalue": "ignored",
          "traceback": [
            "An exception has occurred, use %tb to see the full traceback.\n",
            "\u001b[0;31mSystemExit\u001b[0m\u001b[0;31m:\u001b[0m 0\n"
          ]
        }
      ]
    },
    {
      "cell_type": "code",
      "metadata": {
        "colab": {
          "base_uri": "https://localhost:8080/"
        },
        "id": "sS6PErum8Rdk",
        "outputId": "5025fe24-3108-4889-988a-15ef6a6266cc"
      },
      "source": [
        "!zip -r /content/drive/MyDrive/LFW_VERIFIED0128/batch005_verified.zip /content/batch005_verified\r\n"
      ],
      "execution_count": 149,
      "outputs": [
        {
          "output_type": "stream",
          "text": [
            "  adding: content/batch005_verified/ (stored 0%)\n",
            "  adding: content/batch005_verified/Bruce_Springsteen_0002_0/ (stored 0%)\n",
            "  adding: content/batch005_verified/Mikhail_Youzhny_0003_0/ (stored 0%)\n",
            "  adding: content/batch005_verified/Ernie_Els_0002_0/ (stored 0%)\n",
            "  adding: content/batch005_verified/Jolanta_Kwasniewski_0001_0/ (stored 0%)\n",
            "  adding: content/batch005_verified/Carly_Fiorina_0002_0/ (stored 0%)\n",
            "  adding: content/batch005_verified/Carly_Fiorina_0002_0/1.1679325 (stored 0%)\n",
            "  adding: content/batch005_verified/Carly_Fiorina_0002_0/1.0650073 (stored 0%)\n",
            "  adding: content/batch005_verified/Carly_Fiorina_0002_0/1.0692943 (stored 0%)\n",
            "  adding: content/batch005_verified/Carly_Fiorina_0002_0/1.1151241 (stored 0%)\n",
            "  adding: content/batch005_verified/John_Travolta_0004_0/ (stored 0%)\n",
            "  adding: content/batch005_verified/John_Travolta_0004_0/1.1863383 (stored 0%)\n",
            "  adding: content/batch005_verified/Sean_OKeefe_0003_0/ (stored 0%)\n",
            "  adding: content/batch005_verified/Sean_OKeefe_0003_0/1.1788727 (stored 0%)\n",
            "  adding: content/batch005_verified/Sean_OKeefe_0003_0/1.1459283 (stored 0%)\n",
            "  adding: content/batch005_verified/Sean_OKeefe_0003_0/1.1139991 (stored 0%)\n",
            "  adding: content/batch005_verified/Sean_OKeefe_0003_0/1.1485904 (stored 0%)\n",
            "  adding: content/batch005_verified/Sean_OKeefe_0003_0/1.1245074 (stored 0%)\n",
            "  adding: content/batch005_verified/Filippo_Inzaghi_0003_0/ (stored 0%)\n",
            "  adding: content/batch005_verified/Filippo_Inzaghi_0003_0/0.0 (stored 0%)\n",
            "  adding: content/batch005_verified/Martha_Bowen_0001_0/ (stored 0%)\n",
            "  adding: content/batch005_verified/Martha_Bowen_0001_0/1.1848388 (stored 0%)\n",
            "  adding: content/batch005_verified/Martha_Bowen_0001_0/1.1727588 (stored 0%)\n",
            "  adding: content/batch005_verified/Ai_Sugiyama_0003_0/ (stored 0%)\n",
            "  adding: content/batch005_verified/Roberto_Carlos_0001_0/ (stored 0%)\n",
            "  adding: content/batch005_verified/Roberto_Carlos_0001_0/1.1213099 (stored 0%)\n",
            "  adding: content/batch005_verified/Rio_Ferdinand_0001_0/ (stored 0%)\n",
            "  adding: content/batch005_verified/Rio_Ferdinand_0001_0/1.1249862 (stored 0%)\n",
            "  adding: content/batch005_verified/Rio_Ferdinand_0001_0/1.010911 (stored 0%)\n",
            "  adding: content/batch005_verified/Rio_Ferdinand_0001_0/1.0113956 (stored 0%)\n",
            "  adding: content/batch005_verified/Rio_Ferdinand_0001_0/1.0307468 (stored 0%)\n",
            "  adding: content/batch005_verified/Joe_Torre_0003_0/ (stored 0%)\n",
            "  adding: content/batch005_verified/Theresa_May_0003_0/ (stored 0%)\n",
            "  adding: content/batch005_verified/Theresa_May_0003_0/0.0 (stored 0%)\n",
            "  adding: content/batch005_verified/Muhammad_Ali_0002_0/ (stored 0%)\n",
            "  adding: content/batch005_verified/Muhammad_Ali_0002_0/1.15894 (stored 0%)\n",
            "  adding: content/batch005_verified/Geraldine_Chaplin_0002_0/ (stored 0%)\n",
            "  adding: content/batch005_verified/Geraldine_Chaplin_0002_0/1.1609949 (stored 0%)\n",
            "  adding: content/batch005_verified/Peter_Struck_0001_0/ (stored 0%)\n",
            "  adding: content/batch005_verified/Christina_Aguilera_0002_0/ (stored 0%)\n",
            "  adding: content/batch005_verified/Liam_Neeson_0001_0/ (stored 0%)\n",
            "  adding: content/batch005_verified/Liam_Neeson_0001_0/1.0762275 (stored 0%)\n",
            "  adding: content/batch005_verified/Liam_Neeson_0001_0/1.1103208 (stored 0%)\n",
            "  adding: content/batch005_verified/Liam_Neeson_0001_0/1.0646846 (stored 0%)\n",
            "  adding: content/batch005_verified/Liam_Neeson_0001_0/1.0731145 (stored 0%)\n",
            "  adding: content/batch005_verified/Liam_Neeson_0001_0/1.0494057 (stored 0%)\n",
            "  adding: content/batch005_verified/Liam_Neeson_0001_0/1.0489876 (stored 0%)\n",
            "  adding: content/batch005_verified/Liam_Neeson_0001_0/1.0938519 (stored 0%)\n",
            "  adding: content/batch005_verified/Liam_Neeson_0001_0/1.0881413 (stored 0%)\n",
            "  adding: content/batch005_verified/Liam_Neeson_0001_0/1.144323 (stored 0%)\n",
            "  adding: content/batch005_verified/Carolyn_Dawn_Johnson_0001_0/ (stored 0%)\n",
            "  adding: content/batch005_verified/Colin_Montgomerie_0005_0/ (stored 0%)\n",
            "  adding: content/batch005_verified/Sachiko_Yamada_0003_0/ (stored 0%)\n",
            "  adding: content/batch005_verified/Sachiko_Yamada_0003_0/1.0839431 (stored 0%)\n",
            "  adding: content/batch005_verified/Sachiko_Yamada_0003_0/1.1884658 (stored 0%)\n",
            "  adding: content/batch005_verified/Sachiko_Yamada_0003_0/1.1357341 (stored 0%)\n",
            "  adding: content/batch005_verified/Lee_Soo-hyuck_0003_0/ (stored 0%)\n",
            "  adding: content/batch005_verified/Lee_Soo-hyuck_0003_0/1.1770512 (stored 0%)\n",
            "  adding: content/batch005_verified/Lee_Soo-hyuck_0003_0/1.1698928 (stored 0%)\n",
            "  adding: content/batch005_verified/Lee_Soo-hyuck_0003_0/1.0741647 (stored 0%)\n",
            "  adding: content/batch005_verified/Lee_Soo-hyuck_0003_0/1.0866264 (stored 0%)\n",
            "  adding: content/batch005_verified/Harrison_Ford_0003_0/ (stored 0%)\n",
            "  adding: content/batch005_verified/Harrison_Ford_0003_0/0.0 (stored 0%)\n",
            "  adding: content/batch005_verified/Hun_Sen_0001_0/ (stored 0%)\n",
            "  adding: content/batch005_verified/Hun_Sen_0001_0/1.0687194 (stored 0%)\n",
            "  adding: content/batch005_verified/Hun_Sen_0001_0/1.0556116 (stored 0%)\n",
            "  adding: content/batch005_verified/Hun_Sen_0001_0/1.0107216 (stored 0%)\n",
            "  adding: content/batch005_verified/Hun_Sen_0001_0/1.1414883 (stored 0%)\n",
            "  adding: content/batch005_verified/Fernando_Henrique_Cardoso_0003_0/ (stored 0%)\n",
            "  adding: content/batch005_verified/David_Beckham_0018_0/ (stored 0%)\n",
            "  adding: content/batch005_verified/Brendan_Hansen_0001_0/ (stored 0%)\n",
            "  adding: content/batch005_verified/Brendan_Hansen_0001_0/1.0313643 (stored 0%)\n",
            "  adding: content/batch005_verified/Brendan_Hansen_0001_0/0.9852661 (stored 0%)\n",
            "  adding: content/batch005_verified/Brendan_Hansen_0001_0/1.1296293 (stored 0%)\n",
            "  adding: content/batch005_verified/Kate_Hudson_0007_0/ (stored 0%)\n",
            "  adding: content/batch005_verified/Kate_Hudson_0007_0/1.032354 (stored 0%)\n",
            "  adding: content/batch005_verified/Kate_Hudson_0007_0/1.018656 (stored 0%)\n",
            "  adding: content/batch005_verified/Kate_Hudson_0007_0/1.0796435 (stored 0%)\n"
          ],
          "name": "stdout"
        }
      ]
    }
  ]
}