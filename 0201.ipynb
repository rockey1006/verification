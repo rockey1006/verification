{
  "nbformat": 4,
  "nbformat_minor": 0,
  "metadata": {
    "colab": {
      "name": "0201.ipynb",
      "provenance": [],
      "machine_shape": "hm",
      "authorship_tag": "ABX9TyPc+bfeSa1EDOYLGAT/hAlR",
      "include_colab_link": true
    },
    "kernelspec": {
      "name": "python3",
      "display_name": "Python 3"
    },
    "accelerator": "GPU"
  },
  "cells": [
    {
      "cell_type": "markdown",
      "metadata": {
        "id": "view-in-github",
        "colab_type": "text"
      },
      "source": [
        "<a href=\"https://colab.research.google.com/github/rockey1006/verification/blob/main/0201.ipynb\" target=\"_parent\"><img src=\"https://colab.research.google.com/assets/colab-badge.svg\" alt=\"Open In Colab\"/></a>"
      ]
    },
    {
      "cell_type": "code",
      "metadata": {
        "id": "hgttyxTKuVSE"
      },
      "source": [
        "!pip install deepface\r\n"
      ],
      "execution_count": null,
      "outputs": []
    },
    {
      "cell_type": "code",
      "metadata": {
        "colab": {
          "base_uri": "https://localhost:8080/"
        },
        "id": "bfYNuen6ul5V",
        "outputId": "0c76cded-626a-463f-efa8-046aa8f089d9"
      },
      "source": [
        "\r\n",
        "from google.colab import drive\r\n",
        "drive.mount('/content/drive')"
      ],
      "execution_count": 2,
      "outputs": [
        {
          "output_type": "stream",
          "text": [
            "Mounted at /content/drive\n"
          ],
          "name": "stdout"
        }
      ]
    },
    {
      "cell_type": "code",
      "metadata": {
        "id": "HDzQaRoAurl0"
      },
      "source": [
        "from zipfile import ZipFile\r\n",
        "with ZipFile('/content/drive/My Drive/facenet_weights.zip', 'r') as zipObj:\r\n",
        "   # Extract all the contents of zip file in different directory\r\n",
        "   zipObj.extractall('/root/.deepface/weights/')"
      ],
      "execution_count": 3,
      "outputs": []
    },
    {
      "cell_type": "code",
      "metadata": {
        "id": "1aKzWTuIuxLV"
      },
      "source": [
        "from zipfile import ZipFile\r\n",
        "with ZipFile('/content/drive/MyDrive/LFW0118/batch009.zip', 'r') as zipObj:\r\n",
        "   # Extract all the contents of zip file in different directory\r\n",
        "   zipObj.extractall('/')"
      ],
      "execution_count": 43,
      "outputs": []
    },
    {
      "cell_type": "code",
      "metadata": {
        "id": "kfd3D_4RvLY5"
      },
      "source": [
        "from zipfile import ZipFile\r\n",
        "with ZipFile('/content/drive/MyDrive/batchwrong.zip', 'r') as zipObj:\r\n",
        "   # Extract all the contents of zip file in different directory\r\n",
        "   zipObj.extractall('/')"
      ],
      "execution_count": 7,
      "outputs": []
    },
    {
      "cell_type": "code",
      "metadata": {
        "id": "TEgU3HKsvdsw"
      },
      "source": [
        "\r\n",
        "import sys\r\n",
        "import base64\r\n",
        "import cv2\r\n",
        "import time\r\n",
        "from deepface import DeepFace\r\n",
        "from deepface.commons import functions, realtime, distance as dst\r\n",
        "from deepface.basemodels import VGGFace, OpenFace, Facenet, FbDeepFace, DeepID\r\n",
        "import numpy as np\r\n",
        "import imageio"
      ],
      "execution_count": 8,
      "outputs": []
    },
    {
      "cell_type": "code",
      "metadata": {
        "id": "6QQmeWc7vfHW"
      },
      "source": [
        "faceCascade = cv2.CascadeClassifier(cv2.data.haarcascades + \"haarcascade_frontalface_default.xml\")\r\n",
        "facenet_model = Facenet.loadModel()\r\n",
        "\r\n",
        "def load_img2(img, do_random_crop, do_random_flip, image_size, do_prewhiten=True):\r\n",
        "\timages = np.zeros((1, image_size, image_size, 3))\r\n",
        "\t# scale pixel values\r\n",
        "\tface_pixels = img.astype('float32')\r\n",
        "\t# standardize pixel values across channels (global)\r\n",
        "\tmean, std = face_pixels.mean(), face_pixels.std()\r\n",
        "\tface_pixels = (face_pixels - mean) / std\r\n",
        "\t# transform face into one sample\r\n",
        "\timages[:,:,:,:] = face_pixels\r\n",
        "\treturn images"
      ],
      "execution_count": 9,
      "outputs": []
    },
    {
      "cell_type": "code",
      "metadata": {
        "id": "NpzyFhhTvho1"
      },
      "source": [
        "def verify_distance(img1, img2):   # assumes image is in 160x160 format\r\n",
        "\timg1 = load_img2(img1, False, False, 160)\r\n",
        "\timg2 = load_img2(img2, False, False, 160)\r\n",
        "\timg1_representation = facenet_model.predict(img1)[0,:]\r\n",
        "\timg2_representation = facenet_model.predict(img2)[0,:]\r\n",
        "\t#distance1 = dst.findCosineDistance(img1_representation, img2_representation)\r\n",
        "\t#distance2 = dst.findEuclideanDistance(img1_representation, img2_representation)\r\n",
        "\tdistance3 = dst.findEuclideanDistance(dst.l2_normalize(img1_representation), dst.l2_normalize(img2_representation))\r\n",
        "\t#result = str(distance1) + ' ' + str(distance2) + ' ' + str(distance3)\r\n",
        "\treturn distance3\r\n",
        "from skimage import io"
      ],
      "execution_count": 10,
      "outputs": []
    },
    {
      "cell_type": "code",
      "metadata": {
        "id": "8kGQHGjtvkRM"
      },
      "source": [
        "\r\n",
        "def facedetect_image(img_file):  # detects face and returns 160x160 image around face\r\n",
        "  imagePath = img_file\r\n",
        "  image = io.imread(imagePath)\r\n",
        "  margin = 3  # 3 pixel extra around detected face\r\n",
        "  gray = cv2.cvtColor(image, cv2.COLOR_BGR2GRAY)\r\n",
        "  faces = faceCascade.detectMultiScale(\r\n",
        "\t\tgray,\r\n",
        "\t\tscaleFactor=1.3,\r\n",
        "\t\tminNeighbors=3,\r\n",
        "\t\tminSize=(30, 30)\r\n",
        "\t)\r\n",
        " \r\n",
        "  for (x, y, w, h) in faces:\r\n",
        "\t\t#cv2.rectangle(image, (x, y), (x + w, y + h), (0, 255, 0), 2)\r\n",
        "    roi_color = image[y-margin:y + h+margin, x-margin:x + w+margin]\r\n",
        "    dsize=(160,160)\r\n",
        "    global imface\r\n",
        "    try:\r\n",
        "      imface = cv2.resize(roi_color, dsize, interpolation = cv2.INTER_AREA)\r\n",
        "    except:\r\n",
        "      continue\r\n",
        "    imface = cv2.resize(roi_color, dsize, interpolation = cv2.INTER_AREA)\r\n",
        "    \r\n",
        "\t\t#print(\"[INFO] Object found. Saving locally.\")\r\n",
        "\t\t#cv2.imwrite(str(w) + str(h) + '_faces.jpg', imface1)\r\n",
        "    encoded_string = imface \r\n",
        "    break\r\n",
        "  return imface"
      ],
      "execution_count": 11,
      "outputs": []
    },
    {
      "cell_type": "code",
      "metadata": {
        "id": "2R0-W5qnvnKV"
      },
      "source": [
        "def main():\r\n",
        "  import os \r\n",
        "\r\n",
        "  g = os.walk(r\"/content/batch009/batch29/\") \r\n",
        "  srcPath='/content/batch009_verified/Michael_Powell_0004_0'\r\n",
        "  if not os.path.exists(srcPath):\r\n",
        "        os.makedirs(srcPath)\r\n",
        "  img1 = facedetect_image('/content/batchwrong/batch009/Michael_Powell_0004_0.png/')\r\n",
        "\r\n",
        "\r\n",
        "  for path,dir_list,file_list in g:  \r\n",
        "    for file_name in file_list:  \r\n",
        "      try:\r\n",
        "        img2 = facedetect_image(os.path.join(path, file_name))\r\n",
        "      except:\r\n",
        "        continue\r\n",
        "      img2 = facedetect_image(os.path.join(path, file_name))\r\n",
        "     \r\n",
        "      \r\n",
        "      res = verify_distance(img1,img2)\r\n",
        "      #print(\"euclidean_l2 distance: \",res)\r\n",
        "      if res<1.2:\r\n",
        "        print(\"euclidean_l2 distance: \",res)\r\n",
        "        path1 = os.path.join(path,file_name)\r\n",
        "\r\n",
        "\r\n",
        "        path2 = os.path.join(srcPath+'/'+str(res))\r\n",
        "     \r\n",
        "        with open(path1, 'rb') as rstream:\r\n",
        "          container = rstream.read()\r\n",
        "          with open(path2, 'wb') as wstream:\r\n",
        "            wstream.write(container)\r\n",
        "\r\n",
        "if __name__ == \"__main__\":\r\n",
        "    sys.exit(int(main() or 0))"
      ],
      "execution_count": null,
      "outputs": []
    },
    {
      "cell_type": "code",
      "metadata": {
        "id": "kLfum69-Eh0p"
      },
      "source": [
        "!zip -r /content/drive/MyDrive/LFW_VERIFIED0128/batch007_verified.zip /content/batch007_verified\r\n"
      ],
      "execution_count": null,
      "outputs": []
    }
  ]
}