{
  "nbformat": 4,
  "nbformat_minor": 0,
  "metadata": {
    "colab": {
      "name": "11_27.ipynb",
      "provenance": [],
      "authorship_tag": "ABX9TyNuVKLdWe+y6HXEk0rs0mH2",
      "include_colab_link": true
    },
    "kernelspec": {
      "name": "python3",
      "display_name": "Python 3"
    }
  },
  "cells": [
    {
      "cell_type": "markdown",
      "metadata": {
        "id": "view-in-github",
        "colab_type": "text"
      },
      "source": [
        "<a href=\"https://colab.research.google.com/github/rockey1006/verification/blob/main/11_27.ipynb\" target=\"_parent\"><img src=\"https://colab.research.google.com/assets/colab-badge.svg\" alt=\"Open In Colab\"/></a>"
      ]
    },
    {
      "cell_type": "code",
      "metadata": {
        "id": "u2auTSbAmTGU"
      },
      "source": [
        "from psutil import virtual_memory\n",
        "ram_gb = virtual_memory().total / 1e9\n",
        "print('Your runtime has {:.1f} gigabytes of available RAM\\n'.format(ram_gb))\n",
        "\n",
        "if ram_gb < 20:\n",
        "  print('To enable a high-RAM runtime, select the Runtime > \"Change runtime type\"')\n",
        "  print('menu, and then select High-RAM in the Runtime shape dropdown. Then, ')\n",
        "  print('re-execute this cell.')\n",
        "else:\n",
        "  print('You are using a high-RAM runtime!')"
      ],
      "execution_count": null,
      "outputs": []
    },
    {
      "cell_type": "code",
      "metadata": {
        "id": "PT-rekjfmX2J"
      },
      "source": [
        "\n",
        "from google.colab import drive\n",
        "drive.mount('/content/drive')"
      ],
      "execution_count": null,
      "outputs": []
    },
    {
      "cell_type": "code",
      "metadata": {
        "id": "5fckzTmjmh2j"
      },
      "source": [
        "from zipfile import ZipFile\n",
        "with ZipFile('/content/drive/MyDrive/personA.zip', 'r') as zipObj:\n",
        "   # Extract all the contents of zip file in different directory\n",
        "   zipObj.extractall('/content/personA')"
      ],
      "execution_count": null,
      "outputs": []
    },
    {
      "cell_type": "code",
      "metadata": {
        "id": "HQPCy1rIntYF"
      },
      "source": [
        "from zipfile import ZipFile\n",
        "with ZipFile('/content/drive/MyDrive/needed1125_f.zip', 'r') as zipObj:\n",
        "   # Extract all the contents of zip file in different directory\n",
        "   zipObj.extractall('/content/personD')"
      ],
      "execution_count": null,
      "outputs": []
    },
    {
      "cell_type": "code",
      "metadata": {
        "id": "ziCfjlOUmkr9"
      },
      "source": [
        "\n",
        "import os,sys\n",
        "path = \"/content/personA/personA/person30/\"\n",
        "for name_file in os.listdir(path):\n",
        "\n",
        "  pathn = os.path.join(path, name_file)\n",
        "  if os.path.isdir(pathn):  \n",
        "    os.removedirs(pathn)"
      ],
      "execution_count": null,
      "outputs": []
    },
    {
      "cell_type": "code",
      "metadata": {
        "id": "IvIkr8rCmmYe"
      },
      "source": [
        "import os\n",
        "from PIL import Image\n",
        "path = \"/content/person25/\" \n",
        "if not os.path.exists(path):        \n",
        "  os.makedirs(path)\n",
        "\n",
        "fileName = os.listdir('/content/personA/personA/person25/')\n",
        "width = 160\n",
        "height = 160\n",
        "\n",
        "for img in fileName:\n",
        "  pic = Image.open('/content/personA/personA/person25/'+img)\n",
        "  newpic = pic.resize((width,height),Image.ANTIALIAS)\n",
        "  #print(newpic)\n",
        "  newpic.save('/content/person25/'+img)"
      ],
      "execution_count": null,
      "outputs": []
    },
    {
      "cell_type": "code",
      "metadata": {
        "id": "aZSx4dIjnO2X"
      },
      "source": [
        "import os\n",
        "def mkd():\n",
        "    path = \"/content/newperson25/\" \n",
        "    if not os.path.exists(path):\n",
        "        os.makedirs(path)\n",
        "    for i in range(1, 9):\n",
        "        k = \"%02d\" % i\n",
        "        file_name = path + 'batch'+str(k) \n",
        "        os.makedirs(file_name)\n",
        "        i = i+1\n",
        "mkd()"
      ],
      "execution_count": null,
      "outputs": []
    },
    {
      "cell_type": "code",
      "metadata": {
        "id": "TKSVWVPGnUnK"
      },
      "source": [
        "import os,sys\n",
        "import random\n",
        "import shutil\n",
        "from PIL import Image\n",
        "def copyfile(srcPath,dstPath):\n",
        "    count = 1\n",
        "    batchcount=1\n",
        "    for name_file in os.listdir(srcPath):      \n",
        "        if ( count%50!=0 ):\n",
        "          path = os.path.join(srcPath+str(name_file))\n",
        "          with open(path, 'rb') as rstream:\n",
        "            container = rstream.read()\n",
        "            path2 = os.path.join(dstPath+'batch0'+str(batchcount)+'/'+str(name_file))\n",
        "            with open(path2, 'wb') as wstream:\n",
        "              wstream.write(container)\n",
        "        else:\n",
        "          path = os.path.join(srcPath+str(name_file))\n",
        "          \n",
        "          with open(path, 'rb') as rstream:\n",
        "            container = rstream.read()\n",
        "           \n",
        "            path2 = os.path.join(dstPath+'batch0'+str(batchcount)+'/'+str(name_file))\n",
        "            with open(path2, 'wb') as wstream:\n",
        "              wstream.write(container)\n",
        "          batchcount+=1\n",
        "        count+=1\n",
        "srcPath=\"/content/person25/\"\n",
        "dstPath =  \"/content/newperson25/\"\n",
        "copyfile(srcPath,dstPath)"
      ],
      "execution_count": null,
      "outputs": []
    },
    {
      "cell_type": "code",
      "metadata": {
        "id": "mu19YzsEneqy"
      },
      "source": [
        "!pip install deepface"
      ],
      "execution_count": null,
      "outputs": []
    },
    {
      "cell_type": "code",
      "metadata": {
        "id": "jNbiN1ujoe-C"
      },
      "source": [
        "from zipfile import ZipFile\n",
        "with ZipFile('/content/drive/My Drive/facenet_weights.zip', 'r') as zipObj:\n",
        "   # Extract all the contents of zip file in different directory\n",
        "   zipObj.extractall('/root/.deepface/weights/')"
      ],
      "execution_count": null,
      "outputs": []
    },
    {
      "cell_type": "code",
      "metadata": {
        "id": "JAmsKCtaSjNc"
      },
      "source": [
        "\n",
        "import imageio\n",
        "import imageio.core.util\n",
        "from deepface import DeepFace\n",
        "\n",
        "def silence_imageio_warning(*args, **kwargs):\n",
        "    pass\n",
        "imageio.core.util._precision_warn = silence_imageio_warning\n",
        "import warnings\n",
        "\n",
        "def fxn():\n",
        "    warnings.warn(\"deprecated\", DeprecationWarning)\n",
        "\n",
        "with warnings.catch_warnings():\n",
        "    warnings.simplefilter(\"ignore\")\n",
        "    fxn()\n",
        "import warnings\n",
        "warnings.filterwarnings(\"ignore\")\n",
        "import os\n",
        "os.environ['TF_CPP_MIN_LOG_LEVEL'] = '3' \n",
        "import tensorflow as tf\n",
        "import logging\n",
        "tf.get_logger().setLevel(logging.ERROR)"
      ],
      "execution_count": null,
      "outputs": []
    },
    {
      "cell_type": "code",
      "metadata": {
        "id": "fwxpP30p7L4t"
      },
      "source": [
        "import os \n",
        "\n",
        "g = os.walk(r\"/content/newperson19/batch01/\")  \n",
        "dstPath='/content/verified13/'\n",
        "if not os.path.exists(dstPath):\n",
        "        os.makedirs(dstPath)\n",
        "\n",
        "for path,dir_list,file_list in g:  \n",
        "    for file_name in file_list:  \n",
        "      try:\n",
        "          result  = DeepFace.verify('/content/personD/needed1118_f/000020.png', os.path.join(path, file_name),model_name=\"Facenet\",distance_metric='euclidean_l2')\n",
        "      except:\n",
        "        continue\n",
        "      result  = DeepFace.verify('/content/personD/needed1118_f/000020.png', os.path.join(path, file_name),model_name=\"Facenet\",distance_metric='euclidean_l2')\n",
        "       \n",
        "      print(\"euclidean_l2 distance: \",result[\"distance\"])\n",
        "      print('location:',os.path.join(path, file_name))\n",
        "      #if result[\"distance\"]<1.1:\n",
        "       # path = os.path.join(path+str(file_name))\n",
        "        #with open(path, 'rb') as rstream:\n",
        "         #   container = rstream.read()\n",
        "           \n",
        "          #  path2 = os.path.join(dstPath+'/'+str(file_name))\n",
        "           # with open(path2, 'wb') as wstream:\n",
        "            #  wstream.write(container)\n",
        "\n",
        "  "
      ],
      "execution_count": null,
      "outputs": []
    }
  ]
}