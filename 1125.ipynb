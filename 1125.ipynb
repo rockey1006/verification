{
  "nbformat": 4,
  "nbformat_minor": 0,
  "metadata": {
    "colab": {
      "name": "1125.ipynb",
      "provenance": [],
      "machine_shape": "hm",
      "authorship_tag": "ABX9TyN4ToSEgL5FLrgxfhPYjOMP",
      "include_colab_link": true
    },
    "kernelspec": {
      "name": "python3",
      "display_name": "Python 3"
    },
    "accelerator": "GPU"
  },
  "cells": [
    {
      "cell_type": "markdown",
      "metadata": {
        "id": "view-in-github",
        "colab_type": "text"
      },
      "source": [
        "<a href=\"https://colab.research.google.com/github/rockey1006/verification/blob/main/1125.ipynb\" target=\"_parent\"><img src=\"https://colab.research.google.com/assets/colab-badge.svg\" alt=\"Open In Colab\"/></a>"
      ]
    },
    {
      "cell_type": "code",
      "metadata": {
        "colab": {
          "base_uri": "https://localhost:8080/"
        },
        "id": "briGkXxHZwNX",
        "outputId": "be2286b6-02c8-482f-f579-2b7fe2900b0f"
      },
      "source": [
        "from psutil import virtual_memory\n",
        "ram_gb = virtual_memory().total / 1e9\n",
        "print('Your runtime has {:.1f} gigabytes of available RAM\\n'.format(ram_gb))\n",
        "\n",
        "if ram_gb < 20:\n",
        "  print('To enable a high-RAM runtime, select the Runtime > \"Change runtime type\"')\n",
        "  print('menu, and then select High-RAM in the Runtime shape dropdown. Then, ')\n",
        "  print('re-execute this cell.')\n",
        "else:\n",
        "  print('You are using a high-RAM runtime!')"
      ],
      "execution_count": 1,
      "outputs": [
        {
          "output_type": "stream",
          "text": [
            "Your runtime has 27.4 gigabytes of available RAM\n",
            "\n",
            "You are using a high-RAM runtime!\n"
          ],
          "name": "stdout"
        }
      ]
    },
    {
      "cell_type": "code",
      "metadata": {
        "colab": {
          "base_uri": "https://localhost:8080/"
        },
        "id": "u8gBvzddZ-o5",
        "outputId": "dcaa3882-0fe2-4b99-ab85-c1677f0e0918"
      },
      "source": [
        "from google.colab import drive\n",
        "drive.mount('/content/drive')"
      ],
      "execution_count": 3,
      "outputs": [
        {
          "output_type": "stream",
          "text": [
            "Mounted at /content/drive\n"
          ],
          "name": "stdout"
        }
      ]
    },
    {
      "cell_type": "code",
      "metadata": {
        "id": "SXLrCFfnaljv"
      },
      "source": [
        "from zipfile import ZipFile\n",
        "with ZipFile('/content/drive/MyDrive/person13.zip', 'r') as zipObj:\n",
        "   # Extract all the contents of zip file in different directory\n",
        "   zipObj.extractall('person013')\n",
        "import os,sys\n",
        "path = \"/content/person013/person13/\"\n",
        "for name_file in os.listdir(path):\n",
        "\n",
        "  pathn = os.path.join(path, name_file)\n",
        "  if os.path.isdir(pathn):  \n",
        "    os.removedirs(pathn)"
      ],
      "execution_count": 8,
      "outputs": []
    },
    {
      "cell_type": "code",
      "metadata": {
        "id": "b0lj9fWInO3h"
      },
      "source": [
        "from zipfile import ZipFile\n",
        "with ZipFile('/content/drive/MyDrive/needed1125_f.zip', 'r') as zipObj:\n",
        "   # Extract all the contents of zip file in different directory\n",
        "   zipObj.extractall('1125')"
      ],
      "execution_count": 45,
      "outputs": []
    },
    {
      "cell_type": "code",
      "metadata": {
        "colab": {
          "base_uri": "https://localhost:8080/"
        },
        "id": "jwfB50vMniEH",
        "outputId": "0a11a5c1-bfa8-47ab-b81d-727989508afd"
      },
      "source": [
        "import os\n",
        "from PIL import Image\n",
        "\n",
        "fileName = os.listdir('/content/1125/needed1118_f/')\n",
        "width = 160\n",
        "height = 160\n",
        "\n",
        "for img in fileName:\n",
        "  pic = Image.open('/content/1125/needed1118_f/'+img)\n",
        "  newpic = pic.resize((width,height),Image.ANTIALIAS)\n",
        "  print(newpic)\n",
        "  newpic.save('/content/1125A/'+img)"
      ],
      "execution_count": 46,
      "outputs": [
        {
          "output_type": "stream",
          "text": [
            "<PIL.Image.Image image mode=RGB size=160x160 at 0x7F188D7BF6D8>\n",
            "<PIL.Image.Image image mode=RGB size=160x160 at 0x7F188D6FC630>\n",
            "<PIL.Image.Image image mode=RGB size=160x160 at 0x7F188D7BF6D8>\n",
            "<PIL.Image.Image image mode=RGB size=160x160 at 0x7F1851242F98>\n",
            "<PIL.Image.Image image mode=RGB size=160x160 at 0x7F188D7BF6D8>\n",
            "<PIL.Image.Image image mode=RGB size=160x160 at 0x7F188D6FC630>\n",
            "<PIL.Image.Image image mode=RGB size=160x160 at 0x7F188D7BF6D8>\n",
            "<PIL.Image.Image image mode=RGB size=160x160 at 0x7F1851242F98>\n",
            "<PIL.Image.Image image mode=RGB size=160x160 at 0x7F188D7BF6D8>\n",
            "<PIL.Image.Image image mode=RGB size=160x160 at 0x7F188D6FC630>\n",
            "<PIL.Image.Image image mode=RGB size=160x160 at 0x7F188D7BF6D8>\n",
            "<PIL.Image.Image image mode=RGB size=160x160 at 0x7F1851242F98>\n",
            "<PIL.Image.Image image mode=RGB size=160x160 at 0x7F188D7BF6D8>\n",
            "<PIL.Image.Image image mode=RGB size=160x160 at 0x7F188D6FC630>\n",
            "<PIL.Image.Image image mode=RGB size=160x160 at 0x7F188D7BF6D8>\n",
            "<PIL.Image.Image image mode=RGB size=160x160 at 0x7F1851242F98>\n",
            "<PIL.Image.Image image mode=RGB size=160x160 at 0x7F188D7BF6D8>\n",
            "<PIL.Image.Image image mode=RGB size=160x160 at 0x7F188D6FC630>\n",
            "<PIL.Image.Image image mode=RGB size=160x160 at 0x7F188D7BF6D8>\n",
            "<PIL.Image.Image image mode=RGB size=160x160 at 0x7F1851242F98>\n",
            "<PIL.Image.Image image mode=RGB size=160x160 at 0x7F188D7BF6D8>\n",
            "<PIL.Image.Image image mode=RGB size=160x160 at 0x7F188D6FC630>\n",
            "<PIL.Image.Image image mode=RGB size=160x160 at 0x7F188D7BF6D8>\n",
            "<PIL.Image.Image image mode=RGB size=160x160 at 0x7F1851242F98>\n",
            "<PIL.Image.Image image mode=RGB size=160x160 at 0x7F188D7BF6D8>\n",
            "<PIL.Image.Image image mode=RGB size=160x160 at 0x7F188D6FC630>\n",
            "<PIL.Image.Image image mode=RGB size=160x160 at 0x7F188D7BF6D8>\n",
            "<PIL.Image.Image image mode=RGB size=160x160 at 0x7F1851242F98>\n",
            "<PIL.Image.Image image mode=RGB size=160x160 at 0x7F188D7BF6D8>\n",
            "<PIL.Image.Image image mode=RGB size=160x160 at 0x7F188D6FC630>\n",
            "<PIL.Image.Image image mode=RGB size=160x160 at 0x7F188D7BF6D8>\n",
            "<PIL.Image.Image image mode=RGB size=160x160 at 0x7F1851242F98>\n",
            "<PIL.Image.Image image mode=RGB size=160x160 at 0x7F188D7BF6D8>\n",
            "<PIL.Image.Image image mode=RGB size=160x160 at 0x7F188D6FC630>\n",
            "<PIL.Image.Image image mode=RGB size=160x160 at 0x7F188D7BF6D8>\n"
          ],
          "name": "stdout"
        }
      ]
    },
    {
      "cell_type": "code",
      "metadata": {
        "id": "TCut3WF2hbPf"
      },
      "source": [
        "import os\n",
        " \n",
        " \n",
        "def mkd():\n",
        "    path = \"/content/newperson13B/\" \n",
        "    if not os.path.exists(path):\n",
        "        os.makedirs(path)\n",
        "    for i in range(1, 10):\n",
        "        k = \"%02d\" % i\n",
        "        file_name = path + 'batch'+str(k) \n",
        "        os.makedirs(file_name)\n",
        "        i = i+1\n",
        "        \n",
        "        \n",
        "mkd()"
      ],
      "execution_count": 36,
      "outputs": []
    },
    {
      "cell_type": "code",
      "metadata": {
        "id": "aKeIdUIKkmas"
      },
      "source": [
        "import os\n",
        "from PIL import Image\n",
        "\n",
        "fileName = os.listdir('/content/person013/person13/')\n",
        "width = 160\n",
        "height = 160\n",
        "\n",
        "for img in fileName:\n",
        "  pic = Image.open('/content/person013/person13/'+img)\n",
        "  newpic = pic.resize((width,height),Image.ANTIALIAS)\n",
        "  print(newpic)\n",
        "  newpic.save('/content/resize/'+img)"
      ],
      "execution_count": null,
      "outputs": []
    },
    {
      "cell_type": "code",
      "metadata": {
        "id": "vwcD0zz0a6w1"
      },
      "source": [
        "import os,sys\n",
        "import random\n",
        "import shutil\n",
        "from PIL import Image\n",
        " \n",
        "\n",
        "def copyfile(srcPath,dstPath):\n",
        "   \n",
        "    count = 1\n",
        "    batchcount=1\n",
        "    for name_file in os.listdir(srcPath):      \n",
        "\n",
        "\n",
        "        if ( count%50!=0 ):\n",
        "          \n",
        "          path = os.path.join(srcPath+str(name_file))\n",
        "          \n",
        "          with open(path, 'rb') as rstream:\n",
        "            container = rstream.read()\n",
        "           \n",
        "            path2 = os.path.join(dstPath+'batch0'+str(batchcount)+'/'+str(name_file))\n",
        "            with open(path2, 'wb') as wstream:\n",
        "              wstream.write(container)\n",
        "        else:\n",
        "          batchcount+=1\n",
        "       \n",
        "        \n",
        "          \n",
        "        count+=1\n",
        "    \n",
        "\n",
        " \n",
        "\n",
        " \n",
        "\n",
        "srcPath=\"/content/resize/\"\n",
        "dstPath =  \"/content/newperson13B/\"\n",
        "copyfile(srcPath,dstPath)"
      ],
      "execution_count": 37,
      "outputs": []
    },
    {
      "cell_type": "code",
      "metadata": {
        "id": "aqf1G6b0bVXY"
      },
      "source": [
        "!pip install deepface"
      ],
      "execution_count": null,
      "outputs": []
    },
    {
      "cell_type": "code",
      "metadata": {
        "id": "Voh5udoEbqyi"
      },
      "source": [
        "from zipfile import ZipFile\n",
        "with ZipFile('/content/drive/My Drive/facenet_weights.zip', 'r') as zipObj:\n",
        "   # Extract all the contents of zip file in different directory\n",
        "   zipObj.extractall('/root/.deepface/weights/')"
      ],
      "execution_count": 12,
      "outputs": []
    },
    {
      "cell_type": "code",
      "metadata": {
        "id": "st0E0xPgl_aI"
      },
      "source": [
        "import imageio\n",
        "import imageio.core.util\n",
        "from deepface import DeepFace\n",
        "\n",
        "def silence_imageio_warning(*args, **kwargs):\n",
        "    pass\n",
        "imageio.core.util._precision_warn = silence_imageio_warning\n",
        "import warnings\n",
        "\n",
        "def fxn():\n",
        "    warnings.warn(\"deprecated\", DeprecationWarning)\n",
        "\n",
        "with warnings.catch_warnings():\n",
        "    warnings.simplefilter(\"ignore\")\n",
        "    fxn()\n",
        "import warnings\n",
        "warnings.filterwarnings(\"ignore\")\n",
        "import os\n",
        "os.environ['TF_CPP_MIN_LOG_LEVEL'] = '3' \n",
        "import tensorflow as tf\n",
        "import logging\n",
        "tf.get_logger().setLevel(logging.ERROR)"
      ],
      "execution_count": 38,
      "outputs": []
    },
    {
      "cell_type": "code",
      "metadata": {
        "id": "VJDJzi9hmdSd"
      },
      "source": [
        "import os \n",
        "\n",
        "g = os.walk(r\"/content/newperson13B/batch01/\")  \n",
        "srcPath='/content/verified/'\n",
        "\n",
        "for path,dir_list,file_list in g:  \n",
        "    for file_name in file_list:  \n",
        "      try:\n",
        "          result  = DeepFace.verify('/content/1125A/000013.png', os.path.join(path, file_name),model_name=\"Facenet\",distance_metric='euclidean_l2')\n",
        "      except:\n",
        "        continue\n",
        "      result  = DeepFace.verify('/content/1125A/000013.png', os.path.join(path, file_name),model_name=\"Facenet\",distance_metric='euclidean_l2')\n",
        "       \n",
        "      print(\"euclidean_l2 distance: \",result[\"distance\"])\n",
        "      print(os.path.join(path, file_name))\n",
        "  \n",
        "     "
      ],
      "execution_count": null,
      "outputs": []
    }
  ]
}