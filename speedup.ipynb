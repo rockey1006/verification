{
  "nbformat": 4,
  "nbformat_minor": 0,
  "metadata": {
    "colab": {
      "name": "speedup.ipynb",
      "provenance": [],
      "machine_shape": "hm",
      "authorship_tag": "ABX9TyOvuWzvzxhcZDmcv2QnJAqS",
      "include_colab_link": true
    },
    "kernelspec": {
      "name": "python3",
      "display_name": "Python 3"
    },
    "accelerator": "GPU"
  },
  "cells": [
    {
      "cell_type": "markdown",
      "metadata": {
        "id": "view-in-github",
        "colab_type": "text"
      },
      "source": [
        "<a href=\"https://colab.research.google.com/github/rockey1006/verification/blob/main/speedup.ipynb\" target=\"_parent\"><img src=\"https://colab.research.google.com/assets/colab-badge.svg\" alt=\"Open In Colab\"/></a>"
      ]
    },
    {
      "cell_type": "code",
      "metadata": {
        "id": "BCYP4UXpld9_"
      },
      "source": [
        "!pip install deepface\r\n"
      ],
      "execution_count": null,
      "outputs": []
    },
    {
      "cell_type": "code",
      "metadata": {
        "colab": {
          "base_uri": "https://localhost:8080/"
        },
        "id": "2Q7-Syy1lukO",
        "outputId": "81c0f20b-2bd2-41fd-b4fc-52e080da17d7"
      },
      "source": [
        "from deepface import DeepFace\r\n"
      ],
      "execution_count": 2,
      "outputs": [
        {
          "output_type": "stream",
          "text": [
            "Directory  /root /.deepface created\n",
            "Directory  /root /.deepface/weights created\n"
          ],
          "name": "stdout"
        }
      ]
    },
    {
      "cell_type": "code",
      "metadata": {
        "colab": {
          "base_uri": "https://localhost:8080/"
        },
        "id": "oFQKBoHflypL",
        "outputId": "dfa8c51e-66c9-44e7-81f6-a927b59febc9"
      },
      "source": [
        "\r\n",
        "from google.colab import drive\r\n",
        "drive.mount('/content/drive')"
      ],
      "execution_count": 3,
      "outputs": [
        {
          "output_type": "stream",
          "text": [
            "Mounted at /content/drive\n"
          ],
          "name": "stdout"
        }
      ]
    },
    {
      "cell_type": "code",
      "metadata": {
        "id": "rvoxxNhVl8MY"
      },
      "source": [
        "from zipfile import ZipFile\r\n",
        "with ZipFile('/content/drive/My Drive/facenet_weights.zip', 'r') as zipObj:\r\n",
        "   # Extract all the contents of zip file in different directory\r\n",
        "   zipObj.extractall('/root/.deepface/weights/')"
      ],
      "execution_count": 4,
      "outputs": []
    },
    {
      "cell_type": "code",
      "metadata": {
        "id": "v-wVG1AimWgl"
      },
      "source": [
        "\r\n",
        "from zipfile import ZipFile\r\n",
        "with ZipFile('/content/drive/My Drive/need (1).zip', 'r') as zipObj:\r\n",
        "   # Extract all the contents of zip file in different directory\r\n",
        "   zipObj.extractall('/content/')"
      ],
      "execution_count": 5,
      "outputs": []
    },
    {
      "cell_type": "code",
      "metadata": {
        "id": "cOPTlQ7vr6FA"
      },
      "source": [
        "from zipfile import ZipFile\r\n",
        "with ZipFile('/content/drive/MyDrive/person01.zip', 'r') as zipObj:\r\n",
        "   # Extract all the contents of zip file in different directory\r\n",
        "   zipObj.extractall('person01/')"
      ],
      "execution_count": 10,
      "outputs": []
    },
    {
      "cell_type": "code",
      "metadata": {
        "id": "moS4ZxhGmyqK"
      },
      "source": [
        "import sys\r\n",
        "import base64\r\n",
        "import cv2\r\n",
        "import time\r\n",
        "from deepface import DeepFace\r\n",
        "from deepface.commons import functions, realtime, distance as dst\r\n",
        "from deepface.basemodels import VGGFace, OpenFace, Facenet, FbDeepFace, DeepID\r\n",
        "import numpy as np\r\n",
        "import imageio"
      ],
      "execution_count": 6,
      "outputs": []
    },
    {
      "cell_type": "code",
      "metadata": {
        "id": "LYuZaVYUmH-D"
      },
      "source": [
        "import sys\r\n",
        "import base64\r\n",
        "import cv2\r\n",
        "import time\r\n",
        "from deepface import DeepFace\r\n",
        "from deepface.commons import functions, realtime, distance as dst\r\n",
        "from deepface.basemodels import VGGFace, OpenFace, Facenet, FbDeepFace, DeepID\r\n",
        "import numpy as np\r\n",
        "import imageio\r\n",
        "\r\n",
        "\r\n",
        "faceCascade = cv2.CascadeClassifier(cv2.data.haarcascades + \"haarcascade_frontalface_default.xml\")\r\n",
        "facenet_model = Facenet.loadModel()\r\n",
        "\r\n",
        "def load_img2(img, do_random_crop, do_random_flip, image_size, do_prewhiten=True):\r\n",
        "\timages = np.zeros((1, image_size, image_size, 3))\r\n",
        "\t# scale pixel values\r\n",
        "\tface_pixels = img.astype('float32')\r\n",
        "\t# standardize pixel values across channels (global)\r\n",
        "\tmean, std = face_pixels.mean(), face_pixels.std()\r\n",
        "\tface_pixels = (face_pixels - mean) / std\r\n",
        "\t# transform face into one sample\r\n",
        "\timages[:,:,:,:] = face_pixels\r\n",
        "\treturn images\r\n",
        "\r\n",
        "def verify_distance(img1, img2):   # assumes image is in 160x160 format\r\n",
        "\timg1 = load_img2(img1, False, False, 160)\r\n",
        "\timg2 = load_img2(img2, False, False, 160)\r\n",
        "\timg1_representation = facenet_model.predict(img1)[0,:]\r\n",
        "\timg2_representation = facenet_model.predict(img2)[0,:]\r\n",
        "\t#distance1 = dst.findCosineDistance(img1_representation, img2_representation)\r\n",
        "\t#distance2 = dst.findEuclideanDistance(img1_representation, img2_representation)\r\n",
        "\tdistance3 = dst.findEuclideanDistance(dst.l2_normalize(img1_representation), dst.l2_normalize(img2_representation))\r\n",
        "\t#result = str(distance1) + ' ' + str(distance2) + ' ' + str(distance3)\r\n",
        "\treturn distance3\r\n",
        "from skimage import io\r\n",
        "\r\n",
        "def facedetect_image(img_file):  # detects face and returns 160x160 image around face\r\n",
        "  imagePath = img_file\r\n",
        "  image = io.imread(imagePath)\r\n",
        "  margin = 3  # 3 pixel extra around detected face\r\n",
        "  gray = cv2.cvtColor(image, cv2.COLOR_BGR2GRAY)\r\n",
        "  faces = faceCascade.detectMultiScale(\r\n",
        "\t\tgray,\r\n",
        "\t\tscaleFactor=1.3,\r\n",
        "\t\tminNeighbors=3,\r\n",
        "\t\tminSize=(30, 30)\r\n",
        "\t)\r\n",
        " \r\n",
        "  for (x, y, w, h) in faces:\r\n",
        "\t\t#cv2.rectangle(image, (x, y), (x + w, y + h), (0, 255, 0), 2)\r\n",
        "    roi_color = image[y-margin:y + h+margin, x-margin:x + w+margin]\r\n",
        "    dsize=(160,160)\r\n",
        "    global imface\r\n",
        "    imface = cv2.resize(roi_color, dsize, interpolation = cv2.INTER_AREA)\r\n",
        "\t\t#print(\"[INFO] Object found. Saving locally.\")\r\n",
        "\t\t#cv2.imwrite(str(w) + str(h) + '_faces.jpg', imface1)\r\n",
        "    encoded_string = imface \r\n",
        "    break\r\n",
        "  return imface\r\n",
        "\r\n"
      ],
      "execution_count": 56,
      "outputs": []
    },
    {
      "cell_type": "code",
      "metadata": {
        "colab": {
          "base_uri": "https://localhost:8080/",
          "height": 1000
        },
        "id": "eSpmOOvHsqu0",
        "outputId": "afd6338f-4d4e-4997-f195-f97042e4c5b2"
      },
      "source": [
        "\r\n",
        "\r\n",
        "def main():\r\n",
        "  import os \r\n",
        "\r\n",
        "  g = os.walk(r\"/content/person01/person01/batch1/\") \r\n",
        "  img1 = facedetect_image('/content/person01/person01/000031.png/')\r\n",
        "\r\n",
        "  for path,dir_list,file_list in g:  \r\n",
        "    for file_name in file_list:  \r\n",
        "      print(os.path.join(path, file_name))\r\n",
        "      img2 = facedetect_image(os.path.join(path, file_name))\r\n",
        "      res = verify_distance(img1,img2)\r\n",
        "      print(\"euclidean_l2 distance: \",res)\r\n",
        "\r\n",
        "if __name__ == \"__main__\":\r\n",
        "    sys.exit(int(main() or 0))"
      ],
      "execution_count": 57,
      "outputs": [
        {
          "output_type": "stream",
          "text": [
            "/content/person01/person01/batch1/a.pngb'Blurry'.png6.png\n",
            "euclidean_l2 distance:  0.0\n",
            "/content/person01/person01/batch1/a.pngb'Blurry'.png9.png\n",
            "euclidean_l2 distance:  0.0\n",
            "/content/person01/person01/batch1/a.pngb'High_Cheekbones'.png1.png\n",
            "euclidean_l2 distance:  1.2665443\n",
            "/content/person01/person01/batch1/a.pngb'High_Cheekbones'.png3.png\n",
            "euclidean_l2 distance:  1.2827928\n",
            "/content/person01/person01/batch1/a.pngb'Brown_Hair'.png3.png\n",
            "euclidean_l2 distance:  1.3052164\n",
            "/content/person01/person01/batch1/a.pngb'Bushy_Eyebrows'.png4.png\n",
            "euclidean_l2 distance:  1.36084\n",
            "/content/person01/person01/batch1/a.pngb'Blurry'.png4.png\n",
            "euclidean_l2 distance:  1.36084\n",
            "/content/person01/person01/batch1/a.pngb'Heavy_Makeup'.png1.png\n",
            "euclidean_l2 distance:  1.2665443\n",
            "/content/person01/person01/batch1/a.pngb'Heavy_Makeup'.png8.png\n",
            "euclidean_l2 distance:  1.3408746\n",
            "/content/person01/person01/batch1/a.pngb'Brown_Hair'.png6.png\n",
            "euclidean_l2 distance:  1.3455783\n",
            "/content/person01/person01/batch1/a.pngb'Heavy_Makeup'.png6.png\n",
            "euclidean_l2 distance:  1.329633\n",
            "/content/person01/person01/batch1/a.pngb'Blurry'.png7.png\n",
            "euclidean_l2 distance:  1.329633\n",
            "/content/person01/person01/batch1/a.pngb'Blurry'.png8.png\n",
            "euclidean_l2 distance:  1.329633\n",
            "/content/person01/person01/batch1/a.pngb'Heavy_Makeup'.png2.png\n",
            "euclidean_l2 distance:  1.2728202\n",
            "/content/person01/person01/batch1/a.pngb'High_Cheekbones'.png7.png\n",
            "euclidean_l2 distance:  1.4289901\n",
            "/content/person01/person01/batch1/a.pngb'Heavy_Makeup'.png4.png\n",
            "euclidean_l2 distance:  1.3413218\n",
            "/content/person01/person01/batch1/a.pngb'Bushy_Eyebrows'.png1.png\n",
            "euclidean_l2 distance:  1.2665443\n",
            "/content/person01/person01/batch1/a.pngb'High_Cheekbones'.png8.png\n",
            "euclidean_l2 distance:  1.3952223\n",
            "/content/person01/person01/batch1/a.pngb'Bushy_Eyebrows'.png5.png\n",
            "euclidean_l2 distance:  1.3803715\n",
            "/content/person01/person01/batch1/a.pngb'Heavy_Makeup'.png5.png\n",
            "euclidean_l2 distance:  1.3410039\n",
            "/content/person01/person01/batch1/a.pngb'Bushy_Eyebrows'.png2.png\n",
            "euclidean_l2 distance:  1.2792971\n",
            "/content/person01/person01/batch1/a.pngb'Blurry'.png1.png\n",
            "euclidean_l2 distance:  1.2665443\n",
            "/content/person01/person01/batch1/a.pngb'Bushy_Eyebrows'.png6.png\n",
            "euclidean_l2 distance:  1.3658061\n",
            "/content/person01/person01/batch1/a.pngb'Heavy_Makeup'.png7.png\n",
            "euclidean_l2 distance:  1.3167071\n",
            "/content/person01/person01/batch1/a.pngb'Bushy_Eyebrows'.png8.png\n",
            "euclidean_l2 distance:  1.4182519\n",
            "/content/person01/person01/batch1/a.pngb'Heavy_Makeup'.png9.png\n",
            "euclidean_l2 distance:  1.3667148\n",
            "/content/person01/person01/batch1/a.pngb'Blurry'.png3.png\n",
            "euclidean_l2 distance:  1.280377\n",
            "/content/person01/person01/batch1/a.pngb'High_Cheekbones'.png5.png\n",
            "euclidean_l2 distance:  1.3367387\n",
            "/content/person01/person01/batch1/a.pngb'Brown_Hair'.png5.png\n",
            "euclidean_l2 distance:  1.3206174\n",
            "/content/person01/person01/batch1/a.pngb'Bushy_Eyebrows'.png9.png\n",
            "euclidean_l2 distance:  1.4361689\n",
            "/content/person01/person01/batch1/a.pngb'Blurry'.png5.png\n",
            "euclidean_l2 distance:  1.4361689\n",
            "/content/person01/person01/batch1/a.pngb'Brown_Hair'.png7.png\n",
            "euclidean_l2 distance:  1.3373259\n",
            "/content/person01/person01/batch1/a.pngb'Blurry'.png2.png\n",
            "euclidean_l2 distance:  1.2497357\n",
            "/content/person01/person01/batch1/a.pngb'Bushy_Eyebrows'.png3.png\n",
            "euclidean_l2 distance:  1.3046541\n",
            "/content/person01/person01/batch1/a.pngb'Brown_Hair'.png4.png\n",
            "euclidean_l2 distance:  1.2987287\n",
            "/content/person01/person01/batch1/a.pngb'Brown_Hair'.png9.png\n",
            "euclidean_l2 distance:  1.3792559\n",
            "/content/person01/person01/batch1/a.pngb'Brown_Hair'.png2.png\n",
            "euclidean_l2 distance:  1.2827382\n",
            "/content/person01/person01/batch1/a.pngb'High_Cheekbones'.png2.png\n",
            "euclidean_l2 distance:  1.2653395\n",
            "/content/person01/person01/batch1/a.pngb'High_Cheekbones'.png9.png\n",
            "euclidean_l2 distance:  1.3997564\n",
            "/content/person01/person01/batch1/a.pngb'Brown_Hair'.png8.png\n",
            "euclidean_l2 distance:  1.359636\n",
            "/content/person01/person01/batch1/a.pngb'Bushy_Eyebrows'.png7.png\n",
            "euclidean_l2 distance:  1.3948625\n",
            "/content/person01/person01/batch1/a.pngb'Brown_Hair'.png1.png\n",
            "euclidean_l2 distance:  1.2665443\n",
            "/content/person01/person01/batch1/a.pngb'High_Cheekbones'.png6.png\n",
            "euclidean_l2 distance:  1.3857331\n",
            "/content/person01/person01/batch1/a.pngb'High_Cheekbones'.png4.png\n",
            "euclidean_l2 distance:  1.2978643\n",
            "/content/person01/person01/batch1/a.pngb'Heavy_Makeup'.png3.png\n",
            "euclidean_l2 distance:  1.3098533\n"
          ],
          "name": "stdout"
        },
        {
          "output_type": "error",
          "ename": "SystemExit",
          "evalue": "ignored",
          "traceback": [
            "An exception has occurred, use %tb to see the full traceback.\n",
            "\u001b[0;31mSystemExit\u001b[0m\u001b[0;31m:\u001b[0m 0\n"
          ]
        }
      ]
    }
  ]
}