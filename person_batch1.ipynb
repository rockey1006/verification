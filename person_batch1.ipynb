{
  "nbformat": 4,
  "nbformat_minor": 0,
  "metadata": {
    "colab": {
      "name": "person_batch1.ipynb",
      "provenance": [],
      "machine_shape": "hm",
      "authorship_tag": "ABX9TyMHt7U7ma8Nxyp3Z0s6STe2",
      "include_colab_link": true
    },
    "kernelspec": {
      "name": "python3",
      "display_name": "Python 3"
    },
    "accelerator": "GPU"
  },
  "cells": [
    {
      "cell_type": "markdown",
      "metadata": {
        "id": "view-in-github",
        "colab_type": "text"
      },
      "source": [
        "<a href=\"https://colab.research.google.com/github/rockey1006/verification/blob/main/person_batch1.ipynb\" target=\"_parent\"><img src=\"https://colab.research.google.com/assets/colab-badge.svg\" alt=\"Open In Colab\"/></a>"
      ]
    },
    {
      "cell_type": "code",
      "metadata": {
        "colab": {
          "base_uri": "https://localhost:8080/"
        },
        "id": "woJg-LyUOBr3",
        "outputId": "adc454ef-c130-4fef-adcc-018afcbd57ea"
      },
      "source": [
        "from psutil import virtual_memory\n",
        "ram_gb = virtual_memory().total / 1e9\n",
        "print('Your runtime has {:.1f} gigabytes of available RAM\\n'.format(ram_gb))\n",
        "\n",
        "if ram_gb < 20:\n",
        "  print('To enable a high-RAM runtime, select the Runtime > \"Change runtime type\"')\n",
        "  print('menu, and then select High-RAM in the Runtime shape dropdown. Then, ')\n",
        "  print('re-execute this cell.')\n",
        "else:\n",
        "  print('You are using a high-RAM runtime!')"
      ],
      "execution_count": 1,
      "outputs": [
        {
          "output_type": "stream",
          "text": [
            "Your runtime has 27.4 gigabytes of available RAM\n",
            "\n",
            "You are using a high-RAM runtime!\n"
          ],
          "name": "stdout"
        }
      ]
    },
    {
      "cell_type": "code",
      "metadata": {
        "id": "44MeDHDbOKG4"
      },
      "source": [
        "!pip install deepface\n"
      ],
      "execution_count": null,
      "outputs": []
    },
    {
      "cell_type": "code",
      "metadata": {
        "id": "wXDeNi69OOIg"
      },
      "source": [
        "from deepface import DeepFace\n"
      ],
      "execution_count": 3,
      "outputs": []
    },
    {
      "cell_type": "code",
      "metadata": {
        "colab": {
          "base_uri": "https://localhost:8080/"
        },
        "id": "kHc3O7I9OPHH",
        "outputId": "93d7546f-7352-48f7-e80b-2faba4df496f"
      },
      "source": [
        "\n",
        "from google.colab import drive\n",
        "drive.mount('/content/drive')"
      ],
      "execution_count": 4,
      "outputs": [
        {
          "output_type": "stream",
          "text": [
            "Drive already mounted at /content/drive; to attempt to forcibly remount, call drive.mount(\"/content/drive\", force_remount=True).\n"
          ],
          "name": "stdout"
        }
      ]
    },
    {
      "cell_type": "code",
      "metadata": {
        "id": "QFod0IhzOUR3"
      },
      "source": [
        "from zipfile import ZipFile\n",
        "with ZipFile('/content/drive/My Drive/facenet_weights.zip', 'r') as zipObj:\n",
        "   # Extract all the contents of zip file in different directory\n",
        "   zipObj.extractall('/root/.deepface/weights/')"
      ],
      "execution_count": 5,
      "outputs": []
    },
    {
      "cell_type": "code",
      "metadata": {
        "id": "3vwG49NOOXXQ"
      },
      "source": [
        "from zipfile import ZipFile\n",
        "with ZipFile('/content/drive/MyDrive/person.zip', 'r') as zipObj:\n",
        "   # Extract all the contents of zip file in different directory\n",
        "   zipObj.extractall('person/')"
      ],
      "execution_count": 6,
      "outputs": []
    },
    {
      "cell_type": "code",
      "metadata": {
        "id": "xfD_LAE9OdGw"
      },
      "source": [
        "import os\n",
        "from PIL import Image\n",
        "\n",
        "fileName = os.listdir('/content/person01(2)/person01/batch8/')\n",
        "width = 160\n",
        "height = 160\n",
        "\n",
        "for img in fileName:\n",
        "  pic = Image.open('/content/person01(2)/person01/batch8/'+img)\n",
        "  newpic = pic.resize((width,height),Image.ANTIALIAS)\n",
        "  print(newpic)\n",
        "  newpic.save('/content/person04/'+img)"
      ],
      "execution_count": null,
      "outputs": []
    },
    {
      "cell_type": "code",
      "metadata": {
        "id": "hGEcknkyPj9L"
      },
      "source": [
        "import imageio\n",
        "import imageio.core.util\n",
        "def silence_imageio_warning(*args, **kwargs):\n",
        "    pass\n",
        "imageio.core.util._precision_warn = silence_imageio_warning\n",
        "import warnings\n",
        "\n",
        "def fxn():\n",
        "    warnings.warn(\"deprecated\", DeprecationWarning)\n",
        "\n",
        "with warnings.catch_warnings():\n",
        "    warnings.simplefilter(\"ignore\")\n",
        "    fxn()\n",
        "import warnings\n",
        "warnings.filterwarnings(\"ignore\")\n",
        "import os\n",
        "os.environ['TF_CPP_MIN_LOG_LEVEL'] = '3' \n",
        "import tensorflow as tf\n",
        "import logging\n",
        "tf.get_logger().setLevel(logging.ERROR)"
      ],
      "execution_count": 8,
      "outputs": []
    },
    {
      "cell_type": "code",
      "metadata": {
        "colab": {
          "base_uri": "https://localhost:8080/"
        },
        "id": "zyu-YvduPnyB",
        "outputId": "5775dc49-acfb-425f-c377-580abd216e78"
      },
      "source": [
        "import os \n",
        "\n",
        "g = os.walk(r\"/content/person_new/batch1/\")  \n",
        "#srcPath='/content/verified/'\n",
        "\n",
        "for path,dir_list,file_list in g:  \n",
        "    for file_name in file_list:  \n",
        "      try:\n",
        "          result  = DeepFace.verify('/content/person_new/batch1/000033.png', os.path.join(path, file_name),model_name=\"Facenet\",distance_metric='euclidean_l2')\n",
        "      except:\n",
        "        continue\n",
        "      result  = DeepFace.verify('/content/person_new/batch1/000033.png', os.path.join(path, file_name),model_name=\"Facenet\",distance_metric='euclidean_l2')\n",
        "       \n",
        "      print(\"euclidean_l2 distance: \",result[\"distance\"])\n",
        "      print(os.path.join(path, file_name))\n",
        "  \n",
        "      #if result[\"distance\"]<1.1:\n",
        "       #  print('verified:',os.path.join(path, file_name))"
      ],
      "execution_count": 9,
      "outputs": [
        {
          "output_type": "stream",
          "text": [
            "Using Facenet model backend euclidean_l2 distance.\n",
            "Using Facenet model backend euclidean_l2 distance.\n",
            "euclidean_l2 distance:  1.3277838\n",
            "/content/person_new/batch1/a.pngb'Bangs'.png1.png\n",
            "Using Facenet model backend euclidean_l2 distance.\n",
            "Using Facenet model backend euclidean_l2 distance.\n",
            "euclidean_l2 distance:  1.2392651\n",
            "/content/person_new/batch1/a.pngb'Bangs'.png3.png\n",
            "Using Facenet model backend euclidean_l2 distance.\n",
            "Using Facenet model backend euclidean_l2 distance.\n",
            "euclidean_l2 distance:  1.2697905\n",
            "/content/person_new/batch1/a.pngb'Attractive'.png9.png\n",
            "Using Facenet model backend euclidean_l2 distance.\n",
            "Using Facenet model backend euclidean_l2 distance.\n",
            "euclidean_l2 distance:  1.2491481\n",
            "/content/person_new/batch1/a.pngb'Arched_Eyebrows'.png7.png\n",
            "Using Facenet model backend euclidean_l2 distance.\n",
            "Using Facenet model backend euclidean_l2 distance.\n",
            "euclidean_l2 distance:  1.2467446\n",
            "/content/person_new/batch1/a.pngb'Bangs'.png4.png\n",
            "Using Facenet model backend euclidean_l2 distance.\n",
            "Using Facenet model backend euclidean_l2 distance.\n",
            "Using Facenet model backend euclidean_l2 distance.\n",
            "euclidean_l2 distance:  1.3222219\n",
            "/content/person_new/batch1/a.pngb'5_o_Clock_Shadow'.png4.png\n",
            "Using Facenet model backend euclidean_l2 distance.\n",
            "Using Facenet model backend euclidean_l2 distance.\n",
            "euclidean_l2 distance:  1.27034\n",
            "/content/person_new/batch1/a.pngb'5_o_Clock_Shadow'.png5.png\n",
            "Using Facenet model backend euclidean_l2 distance.\n",
            "Using Facenet model backend euclidean_l2 distance.\n",
            "Using Facenet model backend euclidean_l2 distance.\n",
            "euclidean_l2 distance:  1.2968069\n",
            "/content/person_new/batch1/a.pngb'Arched_Eyebrows'.png2.png\n",
            "Using Facenet model backend euclidean_l2 distance.\n",
            "Using Facenet model backend euclidean_l2 distance.\n",
            "Using Facenet model backend euclidean_l2 distance.\n",
            "euclidean_l2 distance:  1.2822821\n",
            "/content/person_new/batch1/a.pngb'Bangs'.png2.png\n",
            "Using Facenet model backend euclidean_l2 distance.\n",
            "Using Facenet model backend euclidean_l2 distance.\n",
            "euclidean_l2 distance:  1.3261577\n",
            "/content/person_new/batch1/a.pngb'Bags_Under_Eyes'.png2.png\n",
            "Using Facenet model backend euclidean_l2 distance.\n",
            "Using Facenet model backend euclidean_l2 distance.\n",
            "euclidean_l2 distance:  1.290158\n",
            "/content/person_new/batch1/a.pngb'Attractive'.png6.png\n",
            "Using Facenet model backend euclidean_l2 distance.\n",
            "Using Facenet model backend euclidean_l2 distance.\n",
            "euclidean_l2 distance:  1.4006875\n",
            "/content/person_new/batch1/a.pngb'Bags_Under_Eyes'.png6.png\n",
            "Using Facenet model backend euclidean_l2 distance.\n",
            "Using Facenet model backend euclidean_l2 distance.\n",
            "euclidean_l2 distance:  1.264609\n",
            "/content/person_new/batch1/a.pngb'Attractive'.png4.png\n",
            "Using Facenet model backend euclidean_l2 distance.\n",
            "Using Facenet model backend euclidean_l2 distance.\n",
            "euclidean_l2 distance:  1.3277838\n",
            "/content/person_new/batch1/a.pngb'Bags_Under_Eyes'.png1.png\n",
            "Using Facenet model backend euclidean_l2 distance.\n",
            "Using Facenet model backend euclidean_l2 distance.\n",
            "euclidean_l2 distance:  1.2906543\n",
            "/content/person_new/batch1/a.pngb'Attractive'.png7.png\n",
            "Using Facenet model backend euclidean_l2 distance.\n",
            "Using Facenet model backend euclidean_l2 distance.\n",
            "euclidean_l2 distance:  1.3410178\n",
            "/content/person_new/batch1/a.pngb'5_o_Clock_Shadow'.png7.png\n",
            "Using Facenet model backend euclidean_l2 distance.\n",
            "Using Facenet model backend euclidean_l2 distance.\n",
            "Using Facenet model backend euclidean_l2 distance.\n",
            "euclidean_l2 distance:  1.3092909\n",
            "/content/person_new/batch1/a.pngb'5_o_Clock_Shadow'.png2.png\n",
            "Using Facenet model backend euclidean_l2 distance.\n",
            "Using Facenet model backend euclidean_l2 distance.\n",
            "euclidean_l2 distance:  1.2552468\n",
            "/content/person_new/batch1/a.pngb'Arched_Eyebrows'.png5.png\n",
            "Using Facenet model backend euclidean_l2 distance.\n",
            "Using Facenet model backend euclidean_l2 distance.\n",
            "Using Facenet model backend euclidean_l2 distance.\n",
            "euclidean_l2 distance:  1.2272937\n",
            "/content/person_new/batch1/a.pngb'Arched_Eyebrows'.png9.png\n",
            "Using Facenet model backend euclidean_l2 distance.\n",
            "Using Facenet model backend euclidean_l2 distance.\n",
            "euclidean_l2 distance:  1.1840186\n",
            "/content/person_new/batch1/a.pngb'Arched_Eyebrows'.png6.png\n",
            "Using Facenet model backend euclidean_l2 distance.\n",
            "Using Facenet model backend euclidean_l2 distance.\n",
            "euclidean_l2 distance:  1.3768195\n",
            "/content/person_new/batch1/a.pngb'Bangs'.png6.png\n",
            "Using Facenet model backend euclidean_l2 distance.\n",
            "Using Facenet model backend euclidean_l2 distance.\n",
            "euclidean_l2 distance:  1.210387\n",
            "/content/person_new/batch1/a.pngb'Arched_Eyebrows'.png3.png\n",
            "Using Facenet model backend euclidean_l2 distance.\n",
            "Using Facenet model backend euclidean_l2 distance.\n",
            "euclidean_l2 distance:  1.3244852\n",
            "/content/person_new/batch1/a.pngb'Bald'.png4.png\n",
            "Using Facenet model backend euclidean_l2 distance.\n",
            "Using Facenet model backend euclidean_l2 distance.\n",
            "euclidean_l2 distance:  1.3222712\n",
            "/content/person_new/batch1/a.pngb'Bags_Under_Eyes'.png3.png\n",
            "Using Facenet model backend euclidean_l2 distance.\n",
            "Using Facenet model backend euclidean_l2 distance.\n",
            "Using Facenet model backend euclidean_l2 distance.\n",
            "euclidean_l2 distance:  1.3185391\n",
            "/content/person_new/batch1/a.pngb'5_o_Clock_Shadow'.png6.png\n",
            "Using Facenet model backend euclidean_l2 distance.\n",
            "Using Facenet model backend euclidean_l2 distance.\n",
            "euclidean_l2 distance:  1.2267058\n",
            "/content/person_new/batch1/a.pngb'Arched_Eyebrows'.png8.png\n",
            "Using Facenet model backend euclidean_l2 distance.\n",
            "Using Facenet model backend euclidean_l2 distance.\n",
            "euclidean_l2 distance:  1.3277838\n",
            "/content/person_new/batch1/a.pngb'5_o_Clock_Shadow'.png1.png\n",
            "Using Facenet model backend euclidean_l2 distance.\n",
            "Using Facenet model backend euclidean_l2 distance.\n",
            "Using Facenet model backend euclidean_l2 distance.\n",
            "euclidean_l2 distance:  1.3247392\n",
            "/content/person_new/batch1/a.pngb'Bald'.png3.png\n",
            "Using Facenet model backend euclidean_l2 distance.\n",
            "Using Facenet model backend euclidean_l2 distance.\n",
            "euclidean_l2 distance:  1.3855135\n",
            "/content/person_new/batch1/a.pngb'Bags_Under_Eyes'.png5.png\n",
            "Using Facenet model backend euclidean_l2 distance.\n",
            "Using Facenet model backend euclidean_l2 distance.\n",
            "euclidean_l2 distance:  1.326139\n",
            "/content/person_new/batch1/a.pngb'Attractive'.png8.png\n",
            "Using Facenet model backend euclidean_l2 distance.\n",
            "Using Facenet model backend euclidean_l2 distance.\n",
            "euclidean_l2 distance:  1.3182416\n",
            "/content/person_new/batch1/a.pngb'Bald'.png2.png\n",
            "Using Facenet model backend euclidean_l2 distance.\n",
            "Using Facenet model backend euclidean_l2 distance.\n",
            "euclidean_l2 distance:  1.3277838\n",
            "/content/person_new/batch1/a.pngb'Arched_Eyebrows'.png1.png\n",
            "Using Facenet model backend euclidean_l2 distance.\n",
            "Using Facenet model backend euclidean_l2 distance.\n",
            "euclidean_l2 distance:  1.253853\n",
            "/content/person_new/batch1/a.pngb'Bangs'.png5.png\n",
            "Using Facenet model backend euclidean_l2 distance.\n",
            "Using Facenet model backend euclidean_l2 distance.\n",
            "euclidean_l2 distance:  1.1714559\n",
            "/content/person_new/batch1/a.pngb'Bags_Under_Eyes'.png4.png\n",
            "Using Facenet model backend euclidean_l2 distance.\n",
            "Using Facenet model backend euclidean_l2 distance.\n",
            "euclidean_l2 distance:  1.3678358\n",
            "/content/person_new/batch1/a.pngb'5_o_Clock_Shadow'.png8.png\n",
            "Using Facenet model backend euclidean_l2 distance.\n",
            "Using Facenet model backend euclidean_l2 distance.\n",
            "euclidean_l2 distance:  1.2603146\n",
            "/content/person_new/batch1/a.pngb'Attractive'.png5.png\n",
            "Using Facenet model backend euclidean_l2 distance.\n",
            "Using Facenet model backend euclidean_l2 distance.\n",
            "euclidean_l2 distance:  1.292771\n",
            "/content/person_new/batch1/a.pngb'Attractive'.png2.png\n",
            "Using Facenet model backend euclidean_l2 distance.\n",
            "Using Facenet model backend euclidean_l2 distance.\n",
            "euclidean_l2 distance:  1.1913309\n",
            "/content/person_new/batch1/a.pngb'Arched_Eyebrows'.png4.png\n",
            "Using Facenet model backend euclidean_l2 distance.\n",
            "Using Facenet model backend euclidean_l2 distance.\n",
            "euclidean_l2 distance:  1.2954795\n",
            "/content/person_new/batch1/a.pngb'5_o_Clock_Shadow'.png9.png\n",
            "Using Facenet model backend euclidean_l2 distance.\n",
            "Using Facenet model backend euclidean_l2 distance.\n",
            "euclidean_l2 distance:  1.409232\n",
            "/content/person_new/batch1/a.pngb'Bangs'.png9.png\n",
            "Using Facenet model backend euclidean_l2 distance.\n",
            "Using Facenet model backend euclidean_l2 distance.\n",
            "euclidean_l2 distance:  1.3263412\n",
            "/content/person_new/batch1/a.pngb'Bangs'.png8.png\n",
            "Using Facenet model backend euclidean_l2 distance.\n",
            "Using Facenet model backend euclidean_l2 distance.\n",
            "Using Facenet model backend euclidean_l2 distance.\n",
            "euclidean_l2 distance:  0.0\n",
            "/content/person_new/batch1/000033.png\n",
            "Using Facenet model backend euclidean_l2 distance.\n",
            "Using Facenet model backend euclidean_l2 distance.\n",
            "euclidean_l2 distance:  1.3277838\n",
            "/content/person_new/batch1/a.pngb'Bald'.png1.png\n",
            "Using Facenet model backend euclidean_l2 distance.\n",
            "Using Facenet model backend euclidean_l2 distance.\n",
            "euclidean_l2 distance:  1.3277838\n",
            "/content/person_new/batch1/a.pngb'Attractive'.png1.png\n",
            "Using Facenet model backend euclidean_l2 distance.\n",
            "Using Facenet model backend euclidean_l2 distance.\n",
            "euclidean_l2 distance:  1.2588464\n",
            "/content/person_new/batch1/a.pngb'Attractive'.png3.png\n",
            "Using Facenet model backend euclidean_l2 distance.\n",
            "Using Facenet model backend euclidean_l2 distance.\n",
            "euclidean_l2 distance:  1.3192039\n",
            "/content/person_new/batch1/a.pngb'5_o_Clock_Shadow'.png3.png\n",
            "Using Facenet model backend euclidean_l2 distance.\n",
            "Using Facenet model backend euclidean_l2 distance.\n",
            "euclidean_l2 distance:  1.4138218\n",
            "/content/person_new/batch1/a.pngb'Bangs'.png7.png\n"
          ],
          "name": "stdout"
        }
      ]
    },
    {
      "cell_type": "code",
      "metadata": {
        "id": "T0m2gV9XZBH7"
      },
      "source": [
        "import os\n",
        "from PIL import Image\n",
        "\n",
        "fileName = os.listdir('/content/person/person/batch2/')\n",
        "width = 160\n",
        "height = 160\n",
        "\n",
        "for img in fileName:\n",
        "  pic = Image.open('/content/person/person/batch2/'+img)\n",
        "  newpic = pic.resize((width,height),Image.ANTIALIAS)\n",
        "  print(newpic)\n",
        "  newpic.save('/content/person_new/batch2/'+img)"
      ],
      "execution_count": null,
      "outputs": []
    },
    {
      "cell_type": "code",
      "metadata": {
        "colab": {
          "base_uri": "https://localhost:8080/"
        },
        "id": "AVtq3drSZBdT",
        "outputId": "6d2fcac7-487b-4357-b491-2ddea6215ceb"
      },
      "source": [
        "import os \n",
        "\n",
        "g = os.walk(r\"/content/person_new/batch2/\")  \n",
        "#srcPath='/content/verified/'\n",
        "\n",
        "for path,dir_list,file_list in g:  \n",
        "    for file_name in file_list:  \n",
        "      try:\n",
        "          result  = DeepFace.verify('/content/person_new/batch1/000033.png', os.path.join(path, file_name),model_name=\"Facenet\",distance_metric='euclidean_l2')\n",
        "      except:\n",
        "        continue\n",
        "      result  = DeepFace.verify('/content/person_new/batch1/000033.png', os.path.join(path, file_name),model_name=\"Facenet\",distance_metric='euclidean_l2')\n",
        "       \n",
        "      print(\"euclidean_l2 distance: \",result[\"distance\"])\n",
        "      print(os.path.join(path, file_name))\n",
        "  \n",
        "      #if result[\"distance\"]<1.1:\n",
        "       #  print('verified:',os.path.join(path, file_name))"
      ],
      "execution_count": null,
      "outputs": [
        {
          "output_type": "stream",
          "text": [
            "Using Facenet model backend euclidean_l2 distance.\n",
            "Using Facenet model backend euclidean_l2 distance.\n",
            "Using Facenet model backend euclidean_l2 distance.\n",
            "Using Facenet model backend euclidean_l2 distance.\n"
          ],
          "name": "stdout"
        }
      ]
    },
    {
      "cell_type": "code",
      "metadata": {
        "id": "jiQh8UskZBm5"
      },
      "source": [
        "import os\n",
        "from PIL import Image\n",
        "\n",
        "fileName = os.listdir('/content/person/person/batch3/')\n",
        "width = 160\n",
        "height = 160\n",
        "\n",
        "for img in fileName:\n",
        "  pic = Image.open('/content/person/person/batch3/'+img)\n",
        "  newpic = pic.resize((width,height),Image.ANTIALIAS)\n",
        "  print(newpic)\n",
        "  newpic.save('/content/person_new/batch3/'+img)"
      ],
      "execution_count": null,
      "outputs": []
    },
    {
      "cell_type": "code",
      "metadata": {
        "id": "1MUlNksMZBuG"
      },
      "source": [
        "import os \n",
        "\n",
        "g = os.walk(r\"/content/person_new/batch3/\")  \n",
        "#srcPath='/content/verified/'\n",
        "\n",
        "for path,dir_list,file_list in g:  \n",
        "    for file_name in file_list:  \n",
        "      try:\n",
        "          result  = DeepFace.verify('/content/person_new/batch1/000033.png', os.path.join(path, file_name),model_name=\"Facenet\",distance_metric='euclidean_l2')\n",
        "      except:\n",
        "        continue\n",
        "      result  = DeepFace.verify('/content/person_new/batch1/000033.png', os.path.join(path, file_name),model_name=\"Facenet\",distance_metric='euclidean_l2')\n",
        "       \n",
        "      print(\"euclidean_l2 distance: \",result[\"distance\"])\n",
        "      print(os.path.join(path, file_name))\n",
        "  \n",
        "      #if result[\"distance\"]<1.1:\n",
        "       #  print('verified:',os.path.join(path, file_name))"
      ],
      "execution_count": null,
      "outputs": []
    },
    {
      "cell_type": "code",
      "metadata": {
        "id": "iJBGlP4qZ7h9"
      },
      "source": [
        "import os\n",
        "from PIL import Image\n",
        "\n",
        "fileName = os.listdir('/content/person/person/batch4/')\n",
        "width = 160\n",
        "height = 160\n",
        "\n",
        "for img in fileName:\n",
        "  pic = Image.open('/content/person/person/batch4/'+img)\n",
        "  newpic = pic.resize((width,height),Image.ANTIALIAS)\n",
        "  print(newpic)\n",
        "  newpic.save('/content/person_new/batch4/'+img)"
      ],
      "execution_count": null,
      "outputs": []
    },
    {
      "cell_type": "code",
      "metadata": {
        "id": "TyyBL7ZXaAvN"
      },
      "source": [
        "import os \n",
        "\n",
        "g = os.walk(r\"/content/person_new/batch4/\")  \n",
        "#srcPath='/content/verified/'\n",
        "\n",
        "for path,dir_list,file_list in g:  \n",
        "    for file_name in file_list:  \n",
        "      try:\n",
        "          result  = DeepFace.verify('/content/person_new/batch1/000033.png', os.path.join(path, file_name),model_name=\"Facenet\",distance_metric='euclidean_l2')\n",
        "      except:\n",
        "        continue\n",
        "      result  = DeepFace.verify('/content/person_new/batch1/000033.png', os.path.join(path, file_name),model_name=\"Facenet\",distance_metric='euclidean_l2')\n",
        "       \n",
        "      print(\"euclidean_l2 distance: \",result[\"distance\"])\n",
        "      print(os.path.join(path, file_name))\n",
        "  \n",
        "      #if result[\"distance\"]<1.1:\n",
        "       #  print('verified:',os.path.join(path, file_name))"
      ],
      "execution_count": null,
      "outputs": []
    },
    {
      "cell_type": "code",
      "metadata": {
        "id": "15WpWaGhaEgV"
      },
      "source": [
        "import os\n",
        "from PIL import Image\n",
        "\n",
        "fileName = os.listdir('/content/person/person/batch5/')\n",
        "width = 160\n",
        "height = 160\n",
        "\n",
        "for img in fileName:\n",
        "  pic = Image.open('/content/person/person/batch5/'+img)\n",
        "  newpic = pic.resize((width,height),Image.ANTIALIAS)\n",
        "  print(newpic)\n",
        "  newpic.save('/content/person_new/batch5/'+img)"
      ],
      "execution_count": null,
      "outputs": []
    },
    {
      "cell_type": "code",
      "metadata": {
        "id": "5TJLg_RKaJsL"
      },
      "source": [
        "import os \n",
        "\n",
        "g = os.walk(r\"/content/person_new/batch5/\")  \n",
        "#srcPath='/content/verified/'\n",
        "\n",
        "for path,dir_list,file_list in g:  \n",
        "    for file_name in file_list:  \n",
        "      try:\n",
        "          result  = DeepFace.verify('/content/person_new/batch1/000033.png', os.path.join(path, file_name),model_name=\"Facenet\",distance_metric='euclidean_l2')\n",
        "      except:\n",
        "        continue\n",
        "      result  = DeepFace.verify('/content/person_new/batch1/000033.png', os.path.join(path, file_name),model_name=\"Facenet\",distance_metric='euclidean_l2')\n",
        "       \n",
        "      print(\"euclidean_l2 distance: \",result[\"distance\"])\n",
        "      print(os.path.join(path, file_name))\n",
        "  \n",
        "      #if result[\"distance\"]<1.1:\n",
        "       #  print('verified:',os.path.join(path, file_name))"
      ],
      "execution_count": null,
      "outputs": []
    },
    {
      "cell_type": "code",
      "metadata": {
        "id": "4fAVe_7NaWQ9"
      },
      "source": [
        "import os\n",
        "from PIL import Image\n",
        "\n",
        "fileName = os.listdir('/content/person/person/batch6/')\n",
        "width = 160\n",
        "height = 160\n",
        "\n",
        "for img in fileName:\n",
        "  pic = Image.open('/content/person/person/batch6/'+img)\n",
        "  newpic = pic.resize((width,height),Image.ANTIALIAS)\n",
        "  print(newpic)\n",
        "  newpic.save('/content/person_new/batch6/'+img)"
      ],
      "execution_count": null,
      "outputs": []
    },
    {
      "cell_type": "code",
      "metadata": {
        "id": "wZEGUemWaQdB"
      },
      "source": [
        "import os \n",
        "\n",
        "g = os.walk(r\"/content/person_new/batch6/\")  \n",
        "#srcPath='/content/verified/'\n",
        "\n",
        "for path,dir_list,file_list in g:  \n",
        "    for file_name in file_list:  \n",
        "      try:\n",
        "          result  = DeepFace.verify('/content/person_new/batch1/000033.png', os.path.join(path, file_name),model_name=\"Facenet\",distance_metric='euclidean_l2')\n",
        "      except:\n",
        "        continue\n",
        "      result  = DeepFace.verify('/content/person_new/batch1/000033.png', os.path.join(path, file_name),model_name=\"Facenet\",distance_metric='euclidean_l2')\n",
        "       \n",
        "      print(\"euclidean_l2 distance: \",result[\"distance\"])\n",
        "      print(os.path.join(path, file_name))"
      ],
      "execution_count": null,
      "outputs": []
    },
    {
      "cell_type": "code",
      "metadata": {
        "id": "eVJ0m8NIaQkI"
      },
      "source": [
        "import os\n",
        "from PIL import Image\n",
        "\n",
        "fileName = os.listdir('/content/person/person/batch7/')\n",
        "width = 160\n",
        "height = 160\n",
        "\n",
        "for img in fileName:\n",
        "  pic = Image.open('/content/person/person/batch7/'+img)\n",
        "  newpic = pic.resize((width,height),Image.ANTIALIAS)\n",
        "  print(newpic)\n",
        "  newpic.save('/content/person_new/batch7/'+img)"
      ],
      "execution_count": null,
      "outputs": []
    },
    {
      "cell_type": "code",
      "metadata": {
        "id": "NpLsc5svaQrD"
      },
      "source": [
        "import os \n",
        "\n",
        "g = os.walk(r\"/content/person_new/batch7/\")  \n",
        "#srcPath='/content/verified/'\n",
        "\n",
        "for path,dir_list,file_list in g:  \n",
        "    for file_name in file_list:  \n",
        "      try:\n",
        "          result  = DeepFace.verify('/content/person_new/batch1/000033.png', os.path.join(path, file_name),model_name=\"Facenet\",distance_metric='euclidean_l2')\n",
        "      except:\n",
        "        continue\n",
        "      result  = DeepFace.verify('/content/person_new/batch1/000033.png', os.path.join(path, file_name),model_name=\"Facenet\",distance_metric='euclidean_l2')\n",
        "       \n",
        "      print(\"euclidean_l2 distance: \",result[\"distance\"])\n",
        "      print(os.path.join(path, file_name))"
      ],
      "execution_count": null,
      "outputs": []
    },
    {
      "cell_type": "code",
      "metadata": {
        "id": "mR5PejrMaQyi"
      },
      "source": [
        "import os\n",
        "from PIL import Image\n",
        "\n",
        "fileName = os.listdir('/content/person/person/batch8/')\n",
        "width = 160\n",
        "height = 160\n",
        "\n",
        "for img in fileName:\n",
        "  pic = Image.open('/content/person/person/batch/'+img)\n",
        "  newpic = pic.resize((width,height),Image.ANTIALIAS)\n",
        "  print(newpic)\n",
        "  newpic.save('/content/person_new/batch8/'+img)"
      ],
      "execution_count": null,
      "outputs": []
    },
    {
      "cell_type": "code",
      "metadata": {
        "id": "15c_mD1yaQ5C"
      },
      "source": [
        "import os \n",
        "\n",
        "g = os.walk(r\"/content/person_new/batch8/\")  \n",
        "#srcPath='/content/verified/'\n",
        "\n",
        "for path,dir_list,file_list in g:  \n",
        "    for file_name in file_list:  \n",
        "      try:\n",
        "          result  = DeepFace.verify('/content/person_new/batch1/000033.png', os.path.join(path, file_name),model_name=\"Facenet\",distance_metric='euclidean_l2')\n",
        "      except:\n",
        "        continue\n",
        "      result  = DeepFace.verify('/content/person_new/batch1/000033.png', os.path.join(path, file_name),model_name=\"Facenet\",distance_metric='euclidean_l2')\n",
        "       \n",
        "      print(\"euclidean_l2 distance: \",result[\"distance\"])\n",
        "      print(os.path.join(path, file_name))"
      ],
      "execution_count": null,
      "outputs": []
    },
    {
      "cell_type": "code",
      "metadata": {
        "id": "14-yEJ0zaQ_x"
      },
      "source": [
        ""
      ],
      "execution_count": null,
      "outputs": []
    },
    {
      "cell_type": "code",
      "metadata": {
        "id": "NC2hEpb9aRLL"
      },
      "source": [
        ""
      ],
      "execution_count": null,
      "outputs": []
    }
  ]
}