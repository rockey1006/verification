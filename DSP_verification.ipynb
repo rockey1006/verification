{
  "nbformat": 4,
  "nbformat_minor": 0,
  "metadata": {
    "colab": {
      "name": "DSP_verification.ipynb",
      "provenance": [],
      "collapsed_sections": [],
      "authorship_tag": "ABX9TyM5iX2ZW3I/OZmErS6hv6p4",
      "include_colab_link": true
    },
    "kernelspec": {
      "name": "python3",
      "display_name": "Python 3"
    },
    "language_info": {
      "name": "python"
    }
  },
  "cells": [
    {
      "cell_type": "markdown",
      "metadata": {
        "id": "view-in-github",
        "colab_type": "text"
      },
      "source": [
        "<a href=\"https://colab.research.google.com/github/rockey1006/verification/blob/main/DSP_verification.ipynb\" target=\"_parent\"><img src=\"https://colab.research.google.com/assets/colab-badge.svg\" alt=\"Open In Colab\"/></a>"
      ]
    },
    {
      "cell_type": "code",
      "metadata": {
        "colab": {
          "base_uri": "https://localhost:8080/"
        },
        "id": "L6qwsE0c4S_v",
        "outputId": "96e10cef-e481-45b0-afb5-e6d6cbd8b384"
      },
      "source": [
        "from google.colab import drive\n",
        "drive.mount('/content/drive')"
      ],
      "execution_count": 1,
      "outputs": [
        {
          "output_type": "stream",
          "text": [
            "Mounted at /content/drive\n"
          ],
          "name": "stdout"
        }
      ]
    },
    {
      "cell_type": "code",
      "metadata": {
        "id": "Ea_L9uw2MlD6"
      },
      "source": [
        "from zipfile import ZipFile\n",
        "with ZipFile('//content/drive/MyDrive/batchwrong.zip', 'r') as zipObj:\n",
        "   # Extract all the contents of zip file in different directory\n",
        "   zipObj.extractall('batchwrong')"
      ],
      "execution_count": 2,
      "outputs": []
    },
    {
      "cell_type": "code",
      "metadata": {
        "id": "cY1xreWtNNtl"
      },
      "source": [
        "from zipfile import ZipFile\n",
        "with ZipFile('/content/drive/MyDrive/flipping.zip', 'r') as zipObj:\n",
        "   # Extract all the contents of zip file in different directory\n",
        "   zipObj.extractall('flipping')"
      ],
      "execution_count": 3,
      "outputs": []
    },
    {
      "cell_type": "code",
      "metadata": {
        "id": "9xGJT7J-Ndez"
      },
      "source": [
        "!pip install deepface\n"
      ],
      "execution_count": null,
      "outputs": []
    },
    {
      "cell_type": "code",
      "metadata": {
        "id": "Cx8wUs-jPMtP"
      },
      "source": [
        "from zipfile import ZipFile\n",
        "with ZipFile('/content/drive/My Drive/facenet_weights.zip', 'r') as zipObj:\n",
        "   # Extract all the contents of zip file in different directory\n",
        "   zipObj.extractall('/root/.deepface/weights/')"
      ],
      "execution_count": 5,
      "outputs": []
    },
    {
      "cell_type": "code",
      "metadata": {
        "id": "0dXgYMH3PR8W"
      },
      "source": [
        "\n",
        "import sys\n",
        "import base64\n",
        "import cv2\n",
        "import time\n",
        "from deepface import DeepFace\n",
        "from deepface.commons import functions, realtime, distance as dst\n",
        "from deepface.basemodels import VGGFace, OpenFace, Facenet, FbDeepFace, DeepID\n",
        "import numpy as np\n",
        "import imageio"
      ],
      "execution_count": 6,
      "outputs": []
    },
    {
      "cell_type": "code",
      "metadata": {
        "id": "aYtrI6Y5PUd-"
      },
      "source": [
        "faceCascade = cv2.CascadeClassifier(cv2.data.haarcascades + \"haarcascade_frontalface_default.xml\")\n",
        "facenet_model = Facenet.loadModel()\n",
        "\n",
        "def load_img2(img, do_random_crop, do_random_flip, image_size, do_prewhiten=True):\n",
        "\timages = np.zeros((1, image_size, image_size, 3))\n",
        "\t# scale pixel values\n",
        "\tface_pixels = img.astype('float32')\n",
        "\t# standardize pixel values across channels (global)\n",
        "\tmean, std = face_pixels.mean(), face_pixels.std()\n",
        "\tface_pixels = (face_pixels - mean) / std\n",
        "\t# transform face into one sample\n",
        "\timages[:,:,:,:] = face_pixels\n",
        "\treturn images"
      ],
      "execution_count": 7,
      "outputs": []
    },
    {
      "cell_type": "code",
      "metadata": {
        "id": "SgwXK_7YPXk8"
      },
      "source": [
        "def verify_distance(img1, img2):   # assumes image is in 160x160 format\n",
        "\timg1 = load_img2(img1, False, False, 160)\n",
        "\timg2 = load_img2(img2, False, False, 160)\n",
        "\timg1_representation = facenet_model.predict(img1)[0,:]\n",
        "\timg2_representation = facenet_model.predict(img2)[0,:]\n",
        "\t#distance1 = dst.findCosineDistance(img1_representation, img2_representation)\n",
        "\t#distance2 = dst.findEuclideanDistance(img1_representation, img2_representation)\n",
        "\tdistance3 = dst.findEuclideanDistance(dst.l2_normalize(img1_representation), dst.l2_normalize(img2_representation))\n",
        "\t#result = str(distance1) + ' ' + str(distance2) + ' ' + str(distance3)\n",
        "\treturn distance3\n",
        "from skimage import io"
      ],
      "execution_count": 8,
      "outputs": []
    },
    {
      "cell_type": "code",
      "metadata": {
        "id": "cXglxbQAPaYS"
      },
      "source": [
        "def facedetect_image(img_file):  # detects face and returns 160x160 image around face\n",
        "  imagePath = img_file\n",
        "  image = io.imread(imagePath)\n",
        "  margin = 3  # 3 pixel extra around detected face\n",
        "  gray = cv2.cvtColor(image, cv2.COLOR_BGR2GRAY)\n",
        "  faces = faceCascade.detectMultiScale(\n",
        "\t\tgray,\n",
        "\t\tscaleFactor=1.3,\n",
        "\t\tminNeighbors=3,\n",
        "\t\tminSize=(30, 30)\n",
        "\t)\n",
        " \n",
        "  for (x, y, w, h) in faces:\n",
        "\t\t#cv2.rectangle(image, (x, y), (x + w, y + h), (0, 255, 0), 2)\n",
        "    roi_color = image[y-margin:y + h+margin, x-margin:x + w+margin]\n",
        "    dsize=(160,160)\n",
        "    global imface\n",
        "    imface = cv2.resize(roi_color, dsize, interpolation = cv2.INTER_AREA)\n",
        "\t\t#print(\"[INFO] Object found. Saving locally.\")\n",
        "\t\t#cv2.imwrite(str(w) + str(h) + '_faces.jpg', imface1)\n",
        "    encoded_string = imface \n",
        "    break\n",
        "  return imface"
      ],
      "execution_count": 9,
      "outputs": []
    },
    {
      "cell_type": "code",
      "metadata": {
        "colab": {
          "base_uri": "https://localhost:8080/"
        },
        "id": "RZJPtY_9B70N",
        "outputId": "b74522fa-9c64-41e7-8750-04567e3d486d"
      },
      "source": [
        "import os \n",
        "srcPath = \"/content/batchwrong/content/batchwrong/batch002/\"\n",
        "dstPath =  \"/content/flipping/content/dsp_flipping2/batch002/\" \n",
        "count=0\n",
        "for name_file in os.listdir(srcPath):\n",
        "    keyword=name_file\n",
        "    print(keyword)\n",
        "    img1 = facedetect_image(os.path.join(srcPath+str(keyword)))\n",
        "    for name_file1 in os.listdir(dstPath):\n",
        "        if keyword in name_file1:\n",
        "          img2 = facedetect_image(os.path.join(dstPath+str(keyword)))\n",
        "          res = verify_distance(img1,img2)\n",
        "          if res<1.1:\n",
        "            print(\"euclidean_l2 distance: \",res)\n",
        "            count+=1\n",
        "\n",
        "          \n",
        "print(count)          "
      ],
      "execution_count": 76,
      "outputs": [
        {
          "output_type": "stream",
          "text": [
            "Marc_Grossman_0004_0.png\n",
            "euclidean_l2 distance:  0.2851014\n",
            "Susilo_Bambang_Yudhoyono_0001_0.png\n",
            "euclidean_l2 distance:  0.16635896\n",
            "Cruz_Bustamante_0001_0.png\n",
            "euclidean_l2 distance:  0.20600183\n",
            "Chen_Shui-bian_0003_0.png\n",
            "Jerry_Regier_0002_0.png\n",
            "Matthew_Broderick_0003_0.png\n",
            "euclidean_l2 distance:  0.29530117\n",
            "Mike_Brey_0001_0.png\n",
            "euclidean_l2 distance:  0.1671121\n",
            "Lauren_Hutton_0001_0.png\n",
            "James_Gandolfini_0001_0.png\n",
            "William_Hochul_0002_0.png\n",
            "euclidean_l2 distance:  0.23845463\n",
            "Ray_Nagin_0001_0.png\n",
            "euclidean_l2 distance:  0.2250897\n",
            "William_Bratton_0002_0.png\n",
            "euclidean_l2 distance:  0.234239\n",
            "Martha_Stewart_0002_0.png\n",
            "Frank_Cassell_0001_0.png\n",
            "John_Jumper_0002_0.png\n",
            "Pete_Carroll_0002_0.png\n",
            "Goldie_Hawn_0005_0.png\n",
            "euclidean_l2 distance:  0.20400797\n",
            "Heather_Mills_0001_0.png\n",
            "euclidean_l2 distance:  0.10256031\n",
            "Jose_Dirceu_0001_0.png\n",
            "euclidean_l2 distance:  0.21356234\n",
            "Isaiah_Washington_0001_0.png\n",
            "euclidean_l2 distance:  0.30773118\n",
            "Ashanti_0003_0.png\n",
            "euclidean_l2 distance:  0.20522717\n",
            "Patrick_McEnroe_0002_0.png\n",
            "Paul_Wolfowitz_0010_0.png\n",
            "euclidean_l2 distance:  0.25383124\n",
            "Giuseppe_Gibilisco_0001_0.png\n",
            "Carlos_Beltran_0001_0.png\n",
            "euclidean_l2 distance:  0.30279967\n",
            "Jeb_Bush_0008_0.png\n",
            "euclidean_l2 distance:  0.25397784\n",
            "Gwendal_Peizerat_0002_0.png\n",
            "euclidean_l2 distance:  0.24272494\n",
            "Ariel_Sharon_0061_0.png\n",
            "Jonathan_Edwards_0001_0.png\n",
            "Lynne_Cheney_0001_0.png\n",
            "Johnny_Tapia_0001_0.png\n",
            "Sheila_Copps_0001_0.png\n",
            "Abid_Hamid_Mahmud_Al-Tikriti_0002_0.png\n",
            "euclidean_l2 distance:  0.0\n",
            "Charles_Grassley_0001_0.png\n",
            "Tom_Daschle_0004_0.png\n",
            "Taha_Yassin_Ramadan_0011_0.png\n",
            "Saddam_Hussein_0021_0.png\n",
            "Laura_Linney_0004_0.png\n",
            "James_Blake_0013_0.png\n",
            "euclidean_l2 distance:  0.18954813\n",
            "Padraig_Harrington_0004_0.png\n",
            "euclidean_l2 distance:  0.0\n",
            "Tom_Crean_0001_0.png\n",
            "euclidean_l2 distance:  0.2359092\n",
            "Jason_Jennings_0001_0.png\n",
            "euclidean_l2 distance:  0.26392296\n",
            "Klaus_Zwickel_0002_0.png\n",
            "euclidean_l2 distance:  0.19986515\n",
            "Steffi_Graf_0003_0.png\n",
            "Christine_Todd_Whitman_0002_0.png\n",
            "Darrell_Porter_0002_0.png\n",
            "Stan_Heath_0002_0.png\n",
            "euclidean_l2 distance:  0.2032812\n",
            "Guy_Hemmings_0002_0.png\n",
            "Michael_Bloomberg_0018_0.png\n",
            "Matthew_Perry_0006_0.png\n",
            "euclidean_l2 distance:  0.24900217\n",
            "Shane_Warne_0001_0.png\n",
            "euclidean_l2 distance:  0.28196427\n",
            "Carolina_Kluft_0002_0.png\n",
            "Celine_Dion_0001_0.png\n",
            "euclidean_l2 distance:  0.19034664\n",
            "JJ_Redick_0001_0.png\n",
            "Kelvin_Sampson_0001_0.png\n",
            "Ricky_Martin_0001_0.png\n",
            "euclidean_l2 distance:  0.0\n",
            "28\n"
          ],
          "name": "stdout"
        }
      ]
    },
    {
      "cell_type": "code",
      "metadata": {
        "colab": {
          "base_uri": "https://localhost:8080/",
          "height": 149
        },
        "id": "K7XRLjj1PdCs",
        "outputId": "1954b2f4-8423-43d2-982b-143a11cc600e"
      },
      "source": [
        "def main():\n",
        "  import os \n",
        "  srcPath = \"/content/batchwrong/content/batchwrong/batch002/\"\n",
        "  dstPath =  \"/content/flipping/content/dsp_flipping2/batch002/\" \n",
        "  g = os.walk(r\"/content/batchwrong/content/batchwrong/batch002/\" )\n",
        "  h = os.walk(r\"/content/flipping/content/dsp_flipping2/batch002/\" ) \n",
        "  for path1,dir_list2,file_list1 in g:  \n",
        "    for name_list1 in file_list1:\n",
        "      keyword= name_list1\n",
        "      #print(name_list)\n",
        "      #print(os.path.join(srcPath, name_list))\n",
        "      img1 = facedetect_image(os.path.join(path1+str(name_list1)))\n",
        "      for path2,dir_list2,file_list2 in h:  \n",
        "        for name_list2 in file_list2:\n",
        "          if name_list2 in name_list1:\n",
        "            print(name_list2)\n",
        "            \n",
        "            img2 = facedetect_image(os.path.join(path2+str(name_list2)))\n",
        "            res = verify_distance(img1,img2)\n",
        "            #if res<1.2:\n",
        "            print(\"euclidean_l2 distance: \",res)\n",
        "\n",
        "                #print(path)\n",
        "               #path1 = os.path.join(path,file_name)\n",
        "               #path2 = os.path.join(srcPath+'/'+str(res))\n",
        "               #with open(path1, 'rb') as rstream:\n",
        "                 #container = rstream.read()\n",
        "                 #with open(path2, 'wb') as wstream:\n",
        "                   #wstream.write(container)\n",
        "\n",
        "if __name__ == \"__main__\":\n",
        "    sys.exit(int(main() or 0))"
      ],
      "execution_count": 65,
      "outputs": [
        {
          "output_type": "stream",
          "text": [
            "Marc_Grossman_0004_0.png\n",
            "euclidean_l2 distance:  0.2851014\n"
          ],
          "name": "stdout"
        },
        {
          "output_type": "error",
          "ename": "SystemExit",
          "evalue": "ignored",
          "traceback": [
            "An exception has occurred, use %tb to see the full traceback.\n",
            "\u001b[0;31mSystemExit\u001b[0m\u001b[0;31m:\u001b[0m 0\n"
          ]
        }
      ]
    }
  ]
}