{
  "nbformat": 4,
  "nbformat_minor": 0,
  "metadata": {
    "colab": {
      "name": "1126.ipynb",
      "provenance": [],
      "machine_shape": "hm",
      "authorship_tag": "ABX9TyPGE4Jvh9M7RDUtKSetupFN",
      "include_colab_link": true
    },
    "kernelspec": {
      "name": "python3",
      "display_name": "Python 3"
    },
    "accelerator": "GPU"
  },
  "cells": [
    {
      "cell_type": "markdown",
      "metadata": {
        "id": "view-in-github",
        "colab_type": "text"
      },
      "source": [
        "<a href=\"https://colab.research.google.com/github/rockey1006/verification/blob/main/1126.ipynb\" target=\"_parent\"><img src=\"https://colab.research.google.com/assets/colab-badge.svg\" alt=\"Open In Colab\"/></a>"
      ]
    },
    {
      "cell_type": "code",
      "metadata": {
        "colab": {
          "base_uri": "https://localhost:8080/"
        },
        "id": "BLscWAJD1RrI",
        "outputId": "f7c29e89-bcb4-4e66-802a-78bf32918d7c"
      },
      "source": [
        "from psutil import virtual_memory\n",
        "ram_gb = virtual_memory().total / 1e9\n",
        "print('Your runtime has {:.1f} gigabytes of available RAM\\n'.format(ram_gb))\n",
        "\n",
        "if ram_gb < 20:\n",
        "  print('To enable a high-RAM runtime, select the Runtime > \"Change runtime type\"')\n",
        "  print('menu, and then select High-RAM in the Runtime shape dropdown. Then, ')\n",
        "  print('re-execute this cell.')\n",
        "else:\n",
        "  print('You are using a high-RAM runtime!')\n"
      ],
      "execution_count": 1,
      "outputs": [
        {
          "output_type": "stream",
          "text": [
            "Your runtime has 27.4 gigabytes of available RAM\n",
            "\n",
            "You are using a high-RAM runtime!\n"
          ],
          "name": "stdout"
        }
      ]
    },
    {
      "cell_type": "code",
      "metadata": {
        "colab": {
          "base_uri": "https://localhost:8080/"
        },
        "id": "xPEinpAM1vWP",
        "outputId": "5660111e-ece1-4a51-9880-49a45f38ebfc"
      },
      "source": [
        "from google.colab import drive\n",
        "drive.mount('/content/drive')"
      ],
      "execution_count": 2,
      "outputs": [
        {
          "output_type": "stream",
          "text": [
            "Mounted at /content/drive\n"
          ],
          "name": "stdout"
        }
      ]
    },
    {
      "cell_type": "code",
      "metadata": {
        "id": "nuE1uqRE10ZO"
      },
      "source": [
        "from zipfile import ZipFile\n",
        "with ZipFile('/content/drive/MyDrive/personA.zip', 'r') as zipObj:\n",
        "   # Extract all the contents of zip file in different directory\n",
        "   zipObj.extractall('/content/personA')"
      ],
      "execution_count": 3,
      "outputs": []
    },
    {
      "cell_type": "code",
      "metadata": {
        "id": "onLVCqUO2LJU"
      },
      "source": [
        "import os,sys\n",
        "path = \"/content/personA/personA/person13/\"\n",
        "for name_file in os.listdir(path):\n",
        "\n",
        "  pathn = os.path.join(path, name_file)\n",
        "  if os.path.isdir(pathn):  \n",
        "    os.removedirs(pathn)"
      ],
      "execution_count": 5,
      "outputs": []
    },
    {
      "cell_type": "code",
      "metadata": {
        "id": "4-KxPrzl2gIR"
      },
      "source": [
        "import os\n",
        "from PIL import Image\n",
        "\n",
        "fileName = os.listdir('/content/personA/personA/person13/')\n",
        "width = 160\n",
        "height = 160\n",
        "\n",
        "for img in fileName:\n",
        "  pic = Image.open('/content/personA/personA/person13/'+img)\n",
        "  newpic = pic.resize((width,height),Image.ANTIALIAS)\n",
        "  print(newpic)\n",
        "  newpic.save('/content/person13/'+img)"
      ],
      "execution_count": null,
      "outputs": []
    },
    {
      "cell_type": "code",
      "metadata": {
        "id": "I7dTHmNi24l4"
      },
      "source": [
        "import os\n",
        "def mkd():\n",
        "    path = \"/content/newperson13/\" \n",
        "    if not os.path.exists(path):\n",
        "        os.makedirs(path)\n",
        "    for i in range(1, 9):\n",
        "        k = \"%02d\" % i\n",
        "        file_name = path + 'batch'+str(k) \n",
        "        os.makedirs(file_name)\n",
        "        i = i+1\n",
        "mkd()"
      ],
      "execution_count": 7,
      "outputs": []
    },
    {
      "cell_type": "code",
      "metadata": {
        "id": "Kplq9mEQ3DPs"
      },
      "source": [
        "import os,sys\n",
        "import random\n",
        "import shutil\n",
        "from PIL import Image\n",
        "def copyfile(srcPath,dstPath):\n",
        "    count = 1\n",
        "    batchcount=1\n",
        "    for name_file in os.listdir(srcPath):      \n",
        "        if ( count%50!=0 ):\n",
        "          path = os.path.join(srcPath+str(name_file))\n",
        "          with open(path, 'rb') as rstream:\n",
        "            container = rstream.read()\n",
        "            path2 = os.path.join(dstPath+'batch0'+str(batchcount)+'/'+str(name_file))\n",
        "            with open(path2, 'wb') as wstream:\n",
        "              wstream.write(container)\n",
        "        else:\n",
        "          path = os.path.join(srcPath+str(name_file))\n",
        "          \n",
        "          with open(path, 'rb') as rstream:\n",
        "            container = rstream.read()\n",
        "           \n",
        "            path2 = os.path.join(dstPath+'batch0'+str(batchcount)+'/'+str(name_file))\n",
        "            with open(path2, 'wb') as wstream:\n",
        "              wstream.write(container)\n",
        "          batchcount+=1\n",
        "        count+=1\n",
        "srcPath=\"/content/person13/\"\n",
        "dstPath =  \"/content/newperson13/\"\n",
        "copyfile(srcPath,dstPath)"
      ],
      "execution_count": 9,
      "outputs": []
    },
    {
      "cell_type": "code",
      "metadata": {
        "colab": {
          "base_uri": "https://localhost:8080/"
        },
        "id": "XfTQv7h34VLP",
        "outputId": "39192260-0f91-4f04-feac-76619de6e9f3"
      },
      "source": [
        "import os\n",
        " \n",
        "file_count=0\n",
        "for dirpath, dirnames, filenames in os.walk('/content/newperson13'):\n",
        "    for file in filenames:\n",
        "        file_count=file_count+1\n",
        "print(file_count)"
      ],
      "execution_count": 13,
      "outputs": [
        {
          "output_type": "stream",
          "text": [
            "400\n"
          ],
          "name": "stdout"
        }
      ]
    }
  ]
}